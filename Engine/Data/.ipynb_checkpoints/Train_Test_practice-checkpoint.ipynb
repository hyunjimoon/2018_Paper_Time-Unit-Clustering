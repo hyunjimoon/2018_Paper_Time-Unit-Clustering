{
 "cells": [
  {
   "cell_type": "code",
   "execution_count": 1,
   "metadata": {},
   "outputs": [],
   "source": [
    "import os, sys"
   ]
  },
  {
   "cell_type": "code",
   "execution_count": 2,
   "metadata": {},
   "outputs": [
    {
     "name": "stdout",
     "output_type": "stream",
     "text": [
      "C:\\Studying\\Project_Nextop\\nextopt-engine\n"
     ]
    }
   ],
   "source": [
    "path_name= os.path.dirname(os.path.abspath(os.path.dirname(os.path.abspath(os.getcwd()))))\n",
    "sys.path.append(path_name)\n",
    "print(path_name)"
   ]
  },
  {
   "cell_type": "code",
   "execution_count": 3,
   "metadata": {},
   "outputs": [],
   "source": [
    "from Engine.Data import IOinput, IOoutput, preprocessing"
   ]
  },
  {
   "cell_type": "code",
   "execution_count": 4,
   "metadata": {},
   "outputs": [
    {
     "name": "stdout",
     "output_type": "stream",
     "text": [
      "C:\\Studying\\Project_Nextop\\nextopt-engine\\Data\\발주\\KPP일별_발주_유형별전처리.csv\n"
     ]
    }
   ],
   "source": [
    "data_dir= \"{}\\\\Data\\\\발주\".format(path_name)\n",
    "data_filename= \"KPP일별_발주_유형별전처리.csv\"\n",
    "print(data_dir+'\\\\'+data_filename)"
   ]
  },
  {
   "cell_type": "code",
   "execution_count": 5,
   "metadata": {},
   "outputs": [],
   "source": [
    "df= IOinput.from_csv(data_filename, data_dir)"
   ]
  },
  {
   "cell_type": "code",
   "execution_count": 13,
   "metadata": {},
   "outputs": [
    {
     "name": "stdout",
     "output_type": "stream",
     "text": [
      "<class 'pandas.core.frame.DataFrame'>\n",
      "Index: 2891 entries, 2010-01-01 to 2017-11-30\n",
      "Data columns (total 35 columns):\n",
      "1025    2891 non-null int64\n",
      "1041    2891 non-null int64\n",
      "1057    2891 non-null int64\n",
      "1091    2891 non-null int64\n",
      "1111    2891 non-null int64\n",
      "1117    2891 non-null int64\n",
      "1119    2891 non-null int64\n",
      "1127    2891 non-null int64\n",
      "1163    2891 non-null int64\n",
      "1216    2891 non-null int64\n",
      "1242    2891 non-null int64\n",
      "1261    2891 non-null int64\n",
      "1298    2891 non-null int64\n",
      "1355    2891 non-null int64\n",
      "1373    2891 non-null int64\n",
      "1375    2891 non-null int64\n",
      "1376    2891 non-null int64\n",
      "1390    2891 non-null int64\n",
      "1396    2891 non-null int64\n",
      "1627    2891 non-null int64\n",
      "1652    2891 non-null int64\n",
      "1656    2891 non-null int64\n",
      "1692    2891 non-null int64\n",
      "1729    2891 non-null int64\n",
      "1745    2891 non-null int64\n",
      "1754    2891 non-null int64\n",
      "1797    2891 non-null int64\n",
      "1800    2891 non-null int64\n",
      "1815    2891 non-null int64\n",
      "1817    2891 non-null int64\n",
      "1852    2891 non-null int64\n",
      "1853    2891 non-null int64\n",
      "1878    2891 non-null int64\n",
      "1891    2891 non-null int64\n",
      "y       2891 non-null int64\n",
      "dtypes: int64(35)\n",
      "memory usage: 813.1+ KB\n"
     ]
    }
   ],
   "source": [
    "df.info()"
   ]
  },
  {
   "cell_type": "code",
   "execution_count": 14,
   "metadata": {},
   "outputs": [
    {
     "name": "stdout",
     "output_type": "stream",
     "text": [
      "<class 'pandas.core.frame.DataFrame'>\n",
      "Index: 2884 entries, 2010-01-01 to 2017-11-23\n",
      "Data columns (total 35 columns):\n",
      "1025    2884 non-null int64\n",
      "1041    2884 non-null int64\n",
      "1057    2884 non-null int64\n",
      "1091    2884 non-null int64\n",
      "1111    2884 non-null int64\n",
      "1117    2884 non-null int64\n",
      "1119    2884 non-null int64\n",
      "1127    2884 non-null int64\n",
      "1163    2884 non-null int64\n",
      "1216    2884 non-null int64\n",
      "1242    2884 non-null int64\n",
      "1261    2884 non-null int64\n",
      "1298    2884 non-null int64\n",
      "1355    2884 non-null int64\n",
      "1373    2884 non-null int64\n",
      "1375    2884 non-null int64\n",
      "1376    2884 non-null int64\n",
      "1390    2884 non-null int64\n",
      "1396    2884 non-null int64\n",
      "1627    2884 non-null int64\n",
      "1652    2884 non-null int64\n",
      "1656    2884 non-null int64\n",
      "1692    2884 non-null int64\n",
      "1729    2884 non-null int64\n",
      "1745    2884 non-null int64\n",
      "1754    2884 non-null int64\n",
      "1797    2884 non-null int64\n",
      "1800    2884 non-null int64\n",
      "1815    2884 non-null int64\n",
      "1817    2884 non-null int64\n",
      "1852    2884 non-null int64\n",
      "1853    2884 non-null int64\n",
      "1878    2884 non-null int64\n",
      "1891    2884 non-null int64\n",
      "y       2884 non-null int64\n",
      "dtypes: int64(35)\n",
      "memory usage: 811.1+ KB\n"
     ]
    }
   ],
   "source": [
    "df.nextoptapi.train.info()"
   ]
  },
  {
   "cell_type": "code",
   "execution_count": 15,
   "metadata": {},
   "outputs": [
    {
     "name": "stdout",
     "output_type": "stream",
     "text": [
      "<class 'pandas.core.frame.DataFrame'>\n",
      "Index: 7 entries, 2017-11-24 to 2017-11-30\n",
      "Data columns (total 35 columns):\n",
      "1025    7 non-null int64\n",
      "1041    7 non-null int64\n",
      "1057    7 non-null int64\n",
      "1091    7 non-null int64\n",
      "1111    7 non-null int64\n",
      "1117    7 non-null int64\n",
      "1119    7 non-null int64\n",
      "1127    7 non-null int64\n",
      "1163    7 non-null int64\n",
      "1216    7 non-null int64\n",
      "1242    7 non-null int64\n",
      "1261    7 non-null int64\n",
      "1298    7 non-null int64\n",
      "1355    7 non-null int64\n",
      "1373    7 non-null int64\n",
      "1375    7 non-null int64\n",
      "1376    7 non-null int64\n",
      "1390    7 non-null int64\n",
      "1396    7 non-null int64\n",
      "1627    7 non-null int64\n",
      "1652    7 non-null int64\n",
      "1656    7 non-null int64\n",
      "1692    7 non-null int64\n",
      "1729    7 non-null int64\n",
      "1745    7 non-null int64\n",
      "1754    7 non-null int64\n",
      "1797    7 non-null int64\n",
      "1800    7 non-null int64\n",
      "1815    7 non-null int64\n",
      "1817    7 non-null int64\n",
      "1852    7 non-null int64\n",
      "1853    7 non-null int64\n",
      "1878    7 non-null int64\n",
      "1891    7 non-null int64\n",
      "y       7 non-null int64\n",
      "dtypes: int64(35)\n",
      "memory usage: 2.0+ KB\n"
     ]
    }
   ],
   "source": [
    "df.nextoptapi.test.info()"
   ]
  },
  {
   "cell_type": "code",
   "execution_count": 9,
   "metadata": {},
   "outputs": [],
   "source": [
    "df.nextoptapi.yy= 'y_sum'"
   ]
  },
  {
   "cell_type": "code",
   "execution_count": 10,
   "metadata": {},
   "outputs": [
    {
     "data": {
      "text/plain": [
       "'y_sum'"
      ]
     },
     "execution_count": 10,
     "metadata": {},
     "output_type": "execute_result"
    }
   ],
   "source": [
    "df.nextoptapi.yy"
   ]
  },
  {
   "cell_type": "code",
   "execution_count": 11,
   "metadata": {},
   "outputs": [
    {
     "data": {
      "text/plain": [
       "[]"
      ]
     },
     "execution_count": 11,
     "metadata": {},
     "output_type": "execute_result"
    }
   ],
   "source": [
    "df.nextoptapi.attribute"
   ]
  },
  {
   "cell_type": "code",
   "execution_count": 12,
   "metadata": {},
   "outputs": [],
   "source": [
    "df.nextoptapi.term= 7"
   ]
  },
  {
   "cell_type": "code",
   "execution_count": 16,
   "metadata": {},
   "outputs": [
    {
     "data": {
      "text/plain": [
       "ds\n",
       "2017-11-24    120647\n",
       "2017-11-25     67756\n",
       "2017-11-26       100\n",
       "2017-11-27    117480\n",
       "2017-11-28    122192\n",
       "2017-11-29    120685\n",
       "2017-11-30    108386\n",
       "Name: y, dtype: int64"
      ]
     },
     "execution_count": 16,
     "metadata": {},
     "output_type": "execute_result"
    }
   ],
   "source": [
    "df.nextoptapi.testY"
   ]
  },
  {
   "cell_type": "code",
   "execution_count": 17,
   "metadata": {},
   "outputs": [
    {
     "data": {
      "text/html": [
       "<div>\n",
       "<style scoped>\n",
       "    .dataframe tbody tr th:only-of-type {\n",
       "        vertical-align: middle;\n",
       "    }\n",
       "\n",
       "    .dataframe tbody tr th {\n",
       "        vertical-align: top;\n",
       "    }\n",
       "\n",
       "    .dataframe thead th {\n",
       "        text-align: right;\n",
       "    }\n",
       "</style>\n",
       "<table border=\"1\" class=\"dataframe\">\n",
       "  <thead>\n",
       "    <tr style=\"text-align: right;\">\n",
       "      <th></th>\n",
       "      <th>1025</th>\n",
       "      <th>1041</th>\n",
       "      <th>1057</th>\n",
       "      <th>1091</th>\n",
       "      <th>1111</th>\n",
       "      <th>1117</th>\n",
       "      <th>1119</th>\n",
       "      <th>1127</th>\n",
       "      <th>1163</th>\n",
       "      <th>1216</th>\n",
       "      <th>...</th>\n",
       "      <th>1754</th>\n",
       "      <th>1797</th>\n",
       "      <th>1800</th>\n",
       "      <th>1815</th>\n",
       "      <th>1817</th>\n",
       "      <th>1852</th>\n",
       "      <th>1853</th>\n",
       "      <th>1878</th>\n",
       "      <th>1891</th>\n",
       "      <th>y</th>\n",
       "    </tr>\n",
       "    <tr>\n",
       "      <th>ds</th>\n",
       "      <th></th>\n",
       "      <th></th>\n",
       "      <th></th>\n",
       "      <th></th>\n",
       "      <th></th>\n",
       "      <th></th>\n",
       "      <th></th>\n",
       "      <th></th>\n",
       "      <th></th>\n",
       "      <th></th>\n",
       "      <th></th>\n",
       "      <th></th>\n",
       "      <th></th>\n",
       "      <th></th>\n",
       "      <th></th>\n",
       "      <th></th>\n",
       "      <th></th>\n",
       "      <th></th>\n",
       "      <th></th>\n",
       "      <th></th>\n",
       "      <th></th>\n",
       "    </tr>\n",
       "  </thead>\n",
       "  <tbody>\n",
       "    <tr>\n",
       "      <th>2017-11-24</th>\n",
       "      <td>0</td>\n",
       "      <td>8733</td>\n",
       "      <td>272</td>\n",
       "      <td>640</td>\n",
       "      <td>0</td>\n",
       "      <td>0</td>\n",
       "      <td>576</td>\n",
       "      <td>0</td>\n",
       "      <td>0</td>\n",
       "      <td>0</td>\n",
       "      <td>...</td>\n",
       "      <td>610</td>\n",
       "      <td>0</td>\n",
       "      <td>0</td>\n",
       "      <td>70495</td>\n",
       "      <td>0</td>\n",
       "      <td>0</td>\n",
       "      <td>5928</td>\n",
       "      <td>7409</td>\n",
       "      <td>0</td>\n",
       "      <td>120647</td>\n",
       "    </tr>\n",
       "    <tr>\n",
       "      <th>2017-11-25</th>\n",
       "      <td>0</td>\n",
       "      <td>5100</td>\n",
       "      <td>181</td>\n",
       "      <td>224</td>\n",
       "      <td>0</td>\n",
       "      <td>0</td>\n",
       "      <td>0</td>\n",
       "      <td>0</td>\n",
       "      <td>0</td>\n",
       "      <td>0</td>\n",
       "      <td>...</td>\n",
       "      <td>0</td>\n",
       "      <td>0</td>\n",
       "      <td>0</td>\n",
       "      <td>43952</td>\n",
       "      <td>0</td>\n",
       "      <td>0</td>\n",
       "      <td>1885</td>\n",
       "      <td>2604</td>\n",
       "      <td>0</td>\n",
       "      <td>67756</td>\n",
       "    </tr>\n",
       "    <tr>\n",
       "      <th>2017-11-26</th>\n",
       "      <td>0</td>\n",
       "      <td>0</td>\n",
       "      <td>0</td>\n",
       "      <td>0</td>\n",
       "      <td>0</td>\n",
       "      <td>0</td>\n",
       "      <td>0</td>\n",
       "      <td>0</td>\n",
       "      <td>0</td>\n",
       "      <td>0</td>\n",
       "      <td>...</td>\n",
       "      <td>0</td>\n",
       "      <td>0</td>\n",
       "      <td>0</td>\n",
       "      <td>100</td>\n",
       "      <td>0</td>\n",
       "      <td>0</td>\n",
       "      <td>0</td>\n",
       "      <td>0</td>\n",
       "      <td>0</td>\n",
       "      <td>100</td>\n",
       "    </tr>\n",
       "    <tr>\n",
       "      <th>2017-11-27</th>\n",
       "      <td>0</td>\n",
       "      <td>4866</td>\n",
       "      <td>489</td>\n",
       "      <td>448</td>\n",
       "      <td>0</td>\n",
       "      <td>0</td>\n",
       "      <td>416</td>\n",
       "      <td>0</td>\n",
       "      <td>0</td>\n",
       "      <td>0</td>\n",
       "      <td>...</td>\n",
       "      <td>480</td>\n",
       "      <td>0</td>\n",
       "      <td>0</td>\n",
       "      <td>75686</td>\n",
       "      <td>224</td>\n",
       "      <td>0</td>\n",
       "      <td>5417</td>\n",
       "      <td>5513</td>\n",
       "      <td>0</td>\n",
       "      <td>117480</td>\n",
       "    </tr>\n",
       "    <tr>\n",
       "      <th>2017-11-28</th>\n",
       "      <td>0</td>\n",
       "      <td>5723</td>\n",
       "      <td>846</td>\n",
       "      <td>0</td>\n",
       "      <td>0</td>\n",
       "      <td>0</td>\n",
       "      <td>633</td>\n",
       "      <td>0</td>\n",
       "      <td>0</td>\n",
       "      <td>0</td>\n",
       "      <td>...</td>\n",
       "      <td>750</td>\n",
       "      <td>0</td>\n",
       "      <td>0</td>\n",
       "      <td>77009</td>\n",
       "      <td>224</td>\n",
       "      <td>0</td>\n",
       "      <td>7159</td>\n",
       "      <td>6178</td>\n",
       "      <td>0</td>\n",
       "      <td>122192</td>\n",
       "    </tr>\n",
       "    <tr>\n",
       "      <th>2017-11-29</th>\n",
       "      <td>0</td>\n",
       "      <td>6732</td>\n",
       "      <td>0</td>\n",
       "      <td>416</td>\n",
       "      <td>0</td>\n",
       "      <td>0</td>\n",
       "      <td>990</td>\n",
       "      <td>0</td>\n",
       "      <td>0</td>\n",
       "      <td>0</td>\n",
       "      <td>...</td>\n",
       "      <td>670</td>\n",
       "      <td>0</td>\n",
       "      <td>0</td>\n",
       "      <td>77341</td>\n",
       "      <td>224</td>\n",
       "      <td>0</td>\n",
       "      <td>4847</td>\n",
       "      <td>5062</td>\n",
       "      <td>0</td>\n",
       "      <td>120685</td>\n",
       "    </tr>\n",
       "    <tr>\n",
       "      <th>2017-11-30</th>\n",
       "      <td>0</td>\n",
       "      <td>6909</td>\n",
       "      <td>254</td>\n",
       "      <td>596</td>\n",
       "      <td>0</td>\n",
       "      <td>0</td>\n",
       "      <td>160</td>\n",
       "      <td>0</td>\n",
       "      <td>0</td>\n",
       "      <td>0</td>\n",
       "      <td>...</td>\n",
       "      <td>0</td>\n",
       "      <td>18</td>\n",
       "      <td>0</td>\n",
       "      <td>68600</td>\n",
       "      <td>0</td>\n",
       "      <td>0</td>\n",
       "      <td>5586</td>\n",
       "      <td>4166</td>\n",
       "      <td>0</td>\n",
       "      <td>108386</td>\n",
       "    </tr>\n",
       "  </tbody>\n",
       "</table>\n",
       "<p>7 rows × 35 columns</p>\n",
       "</div>"
      ],
      "text/plain": [
       "            1025  1041  1057  1091  1111  1117  1119  1127  1163  1216  \\\n",
       "ds                                                                       \n",
       "2017-11-24     0  8733   272   640     0     0   576     0     0     0   \n",
       "2017-11-25     0  5100   181   224     0     0     0     0     0     0   \n",
       "2017-11-26     0     0     0     0     0     0     0     0     0     0   \n",
       "2017-11-27     0  4866   489   448     0     0   416     0     0     0   \n",
       "2017-11-28     0  5723   846     0     0     0   633     0     0     0   \n",
       "2017-11-29     0  6732     0   416     0     0   990     0     0     0   \n",
       "2017-11-30     0  6909   254   596     0     0   160     0     0     0   \n",
       "\n",
       "             ...    1754  1797  1800   1815  1817  1852  1853  1878  1891  \\\n",
       "ds           ...                                                            \n",
       "2017-11-24   ...     610     0     0  70495     0     0  5928  7409     0   \n",
       "2017-11-25   ...       0     0     0  43952     0     0  1885  2604     0   \n",
       "2017-11-26   ...       0     0     0    100     0     0     0     0     0   \n",
       "2017-11-27   ...     480     0     0  75686   224     0  5417  5513     0   \n",
       "2017-11-28   ...     750     0     0  77009   224     0  7159  6178     0   \n",
       "2017-11-29   ...     670     0     0  77341   224     0  4847  5062     0   \n",
       "2017-11-30   ...       0    18     0  68600     0     0  5586  4166     0   \n",
       "\n",
       "                 y  \n",
       "ds                  \n",
       "2017-11-24  120647  \n",
       "2017-11-25   67756  \n",
       "2017-11-26     100  \n",
       "2017-11-27  117480  \n",
       "2017-11-28  122192  \n",
       "2017-11-29  120685  \n",
       "2017-11-30  108386  \n",
       "\n",
       "[7 rows x 35 columns]"
      ]
     },
     "execution_count": 17,
     "metadata": {},
     "output_type": "execute_result"
    }
   ],
   "source": [
    "df.nextoptapi.test"
   ]
  },
  {
   "cell_type": "code",
   "execution_count": null,
   "metadata": {},
   "outputs": [],
   "source": []
  }
 ],
 "metadata": {
  "kernelspec": {
   "display_name": "Python 3",
   "language": "python",
   "name": "python3"
  },
  "language_info": {
   "codemirror_mode": {
    "name": "ipython",
    "version": 3
   },
   "file_extension": ".py",
   "mimetype": "text/x-python",
   "name": "python",
   "nbconvert_exporter": "python",
   "pygments_lexer": "ipython3",
   "version": "3.6.4"
  }
 },
 "nbformat": 4,
 "nbformat_minor": 2
}
