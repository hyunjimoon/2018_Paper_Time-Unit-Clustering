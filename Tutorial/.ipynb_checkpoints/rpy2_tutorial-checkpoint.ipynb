{
 "cells": [
  {
   "cell_type": "markdown",
   "metadata": {},
   "source": [
    "다음의 코드를 실행하기 위해서는 다음의 작업을 해야 합니다.\n",
    "\n",
    "1. Anaconda 및 R 설치\n",
    "2. conda create --name nextopt python=3.6\n",
    "3. source activate nextopt\n",
    "4. conda install numpy pandas matplotlib jupyter seaborn\n",
    "5. conda install rpy2"
   ]
  },
  {
   "cell_type": "markdown",
   "metadata": {},
   "source": [
    "# 1. Rpy2 패키지 불러오기"
   ]
  },
  {
   "cell_type": "code",
   "execution_count": 1,
   "metadata": {},
   "outputs": [],
   "source": [
    "import rpy2.robjects as robjects\n",
    "import rpy2.robjects.packages as rpackages\n",
    "from rpy2.robjects.packages import importr"
   ]
  },
  {
   "cell_type": "markdown",
   "metadata": {},
   "source": [
    "# 2. Forecast 패키지 설치"
   ]
  },
  {
   "cell_type": "markdown",
   "metadata": {},
   "source": [
    "Forecast 패키지는 R에서 시계열 분석을 위한 패키지이다."
   ]
  },
  {
   "cell_type": "code",
   "execution_count": 2,
   "metadata": {},
   "outputs": [
    {
     "name": "stdout",
     "output_type": "stream",
     "text": [
      "--- Please select a CRAN mirror for use in this session ---\n",
      "\n",
      "\n",
      "\n",
      "Secure CRAN mirrors\n",
      " \n",
      "\n",
      "\n",
      "\n",
      "\n",
      "\n",
      " 1: 0-Cloud [https]                   2: Algeria [https]                \n",
      " 3: Australia (Canberra) [https]      4: Australia (Melbourne 1) [https]\n",
      " 5: Australia (Melbourne 2) [https]   6: Australia (Perth) [https]      \n",
      " 7: Austria [https]                   8: Belgium (Ghent) [https]        \n",
      " 9: Brazil (PR) [https]              10: Brazil (RJ) [https]            \n",
      "11: Brazil (SP 1) [https]            12: Brazil (SP 2) [https]          \n",
      "13: Bulgaria [https]                 14: Chile 1 [https]                \n",
      "15: Chile 2 [https]                  16: China (Guangzhou) [https]      \n",
      "17: China (Lanzhou) [https]          18: China (Shanghai) [https]       \n",
      "19: Colombia (Cali) [https]          20: Czech Republic [https]         \n",
      "21: Denmark [https]                  22: East Asia [https]              \n",
      "23: Ecuador (Cuenca) [https]         24: Ecuador (Quito) [https]        \n",
      "25: Estonia [https]                  26: France (Lyon 1) [https]        \n",
      "27: France (Lyon 2) [https]          28: France (Marseille) [https]     \n",
      "29: France (Montpellier) [https]     30: France (Paris 2) [https]       \n",
      "31: Germany (Erlangen) [https]       32: Germany (Göttingen) [https]    \n",
      "33: Germany (Münster) [https]        34: Greece [https]                 \n",
      "35: Iceland [https]                  36: Indonesia (Jakarta) [https]    \n",
      "37: Ireland [https]                  38: Italy (Padua) [https]          \n",
      "39: Japan (Tokyo) [https]            40: Japan (Yonezawa) [https]       \n",
      "41: Malaysia [https]                 42: Mexico (Mexico City) [https]   \n",
      "43: Norway [https]                   44: Philippines [https]            \n",
      "45: Serbia [https]                   46: Spain (A Coruña) [https]       \n",
      "47: Spain (Madrid) [https]           48: Sweden [https]                 \n",
      "49: Switzerland [https]              50: Turkey (Denizli) [https]       \n",
      "51: Turkey (Mersin) [https]          52: UK (Bristol) [https]           \n",
      "53: UK (Cambridge) [https]           54: UK (London 1) [https]          \n",
      "55: USA (CA 1) [https]               56: USA (IA) [https]               \n",
      "57: USA (KS) [https]                 58: USA (MI 1) [https]             \n",
      "59: USA (NY) [https]                 60: USA (OR) [https]               \n",
      "61: USA (TN) [https]                 62: USA (TX 1) [https]             \n",
      "63: Vietnam [https]                  64: (other mirrors)                \n",
      "\n",
      "\n",
      "\n",
      "\n",
      "\n",
      "\n",
      "Selection: 64\n",
      "Other CRAN mirrors\n",
      " \n",
      "\n",
      "\n",
      "\n",
      "\n",
      "\n",
      " 1: 0-Cloud                           2: Algeria                        \n",
      " 3: Argentina (La Plata)              4: Australia (Canberra)           \n",
      " 5: Austria                           6: Belgium (Antwerp)              \n",
      " 7: Belgium (Ghent)                   8: Brazil (BA)                    \n",
      " 9: Brazil (PR)                      10: Brazil (RJ)                    \n",
      "11: Brazil (SP 1)                    12: Brazil (SP 2)                  \n",
      "13: Bulgaria                         14: Canada (BC)                    \n",
      "15: Canada (MB) [https]              16: Canada (MB)                    \n",
      "17: Canada (NS)                      18: Canada (ON)                    \n",
      "19: Chile 1                          20: China (Beijing) [https]        \n",
      "21: China (Beijing)                  22: China (Hefei) [https]          \n",
      "23: China (Hefei)                    24: China (Lanzhou)                \n",
      "25: Colombia (Cali)                  26: Czech Republic                 \n",
      "27: Denmark                          28: Ecuador (Cuenca)               \n",
      "29: El Salvador                      30: Estonia                        \n",
      "31: France (Lyon 2)                  32: France (Marseille)             \n",
      "33: France (Montpellier)             34: France (Paris 1)               \n",
      "35: France (Paris 2)                 36: Germany (Göttingen)            \n",
      "37: Germany (Münster)                38: Greece                         \n",
      "39: Hungary                          40: Iceland                        \n",
      "41: India [https]                    42: India                          \n",
      "43: Iran                             44: Ireland                        \n",
      "45: Italy (Milano)                   46: Italy (Padua)                  \n",
      "47: Italy (Palermo)                  48: Japan (Tokyo)                  \n",
      "49: Korea (Seoul 1)                  50: Korea (Seoul 2)                \n",
      "51: Korea (Ulsan)                    52: Malaysia                       \n",
      "53: Mexico (Mexico City)             54: Mexico (Texcoco)               \n",
      "55: New Zealand [https]              56: New Zealand                    \n",
      "57: Norway                           58: Philippines                    \n",
      "59: Portugal (Lisbon)                60: Portugal (Porto)               \n",
      "61: Singapore (Singapore 1) [https]  62: Singapore (Singapore 2)        \n",
      "63: Singapore (Singapore 2) [https]  64: South Africa (Cape Town)       \n",
      "65: South Africa (Johannesburg)      66: Spain (A Coruña)               \n",
      "67: Spain (Madrid)                   68: Sweden                         \n",
      "69: Switzerland                      70: Taiwan (Chungli) [https]       \n",
      "71: Taiwan (Chungli)                 72: Taiwan (Taipei)                \n",
      "73: Thailand                         74: Turkey (Denizli)               \n",
      "75: Turkey (Mersin)                  76: UK (Bristol)                   \n",
      "77: UK (Cambridge)                   78: UK (London 1)                  \n",
      "79: USA (CA 1)                       80: USA (CA 2)                     \n",
      "81: USA (IA)                         82: USA (IN) [https]               \n",
      "83: USA (IN)                         84: USA (KS)                       \n",
      "85: USA (MI 1)                       86: USA (MO)                       \n",
      "87: USA (NC)                         88: USA (OH) [https]               \n",
      "89: USA (OH)                         90: USA (OR)                       \n",
      "91: USA (PA 1)                       92: USA (PA 2)                     \n",
      "93: USA (TN)                         94: USA (TX 1)                     \n",
      "95: Venezuela                        \n",
      "\n",
      "\n",
      "\n",
      "\n",
      "\n",
      "Selection: 49\n"
     ]
    },
    {
     "name": "stderr",
     "output_type": "stream",
     "text": [
      "/Users/sailyourlife/anaconda3/envs/nextopt/lib/python3.6/site-packages/rpy2/rinterface/__init__.py:145: RRuntimeWarning: trying URL 'http://cran.nexr.com/src/contrib/forecast_8.2.tar.gz'\n",
      "\n",
      "  warnings.warn(x, RRuntimeWarning)\n",
      "/Users/sailyourlife/anaconda3/envs/nextopt/lib/python3.6/site-packages/rpy2/rinterface/__init__.py:145: RRuntimeWarning: Content type 'application/x-gzip'\n",
      "  warnings.warn(x, RRuntimeWarning)\n",
      "/Users/sailyourlife/anaconda3/envs/nextopt/lib/python3.6/site-packages/rpy2/rinterface/__init__.py:145: RRuntimeWarning:  length 784337 bytes (765 KB)\n",
      "\n",
      "  warnings.warn(x, RRuntimeWarning)\n",
      "/Users/sailyourlife/anaconda3/envs/nextopt/lib/python3.6/site-packages/rpy2/rinterface/__init__.py:145: RRuntimeWarning: =\n",
      "  warnings.warn(x, RRuntimeWarning)\n",
      "/Users/sailyourlife/anaconda3/envs/nextopt/lib/python3.6/site-packages/rpy2/rinterface/__init__.py:145: RRuntimeWarning: \n",
      "\n",
      "  warnings.warn(x, RRuntimeWarning)\n",
      "/Users/sailyourlife/anaconda3/envs/nextopt/lib/python3.6/site-packages/rpy2/rinterface/__init__.py:145: RRuntimeWarning: downloaded 765 KB\n",
      "\n",
      "\n",
      "  warnings.warn(x, RRuntimeWarning)\n",
      "/Users/sailyourlife/anaconda3/envs/nextopt/lib/python3.6/site-packages/rpy2/rinterface/__init__.py:145: RRuntimeWarning: \n",
      "  warnings.warn(x, RRuntimeWarning)\n",
      "/Users/sailyourlife/anaconda3/envs/nextopt/lib/python3.6/site-packages/rpy2/rinterface/__init__.py:145: RRuntimeWarning: The downloaded source packages are in\n",
      "\t‘/private/var/folders/33/yywgd_5n4q1dchwjv35l7_3w0000gn/T/Rtmp6fZz1K/downloaded_packages’\n",
      "  warnings.warn(x, RRuntimeWarning)\n",
      "/Users/sailyourlife/anaconda3/envs/nextopt/lib/python3.6/site-packages/rpy2/rinterface/__init__.py:145: RRuntimeWarning: Updating HTML index of packages in '.Library'\n",
      "\n",
      "  warnings.warn(x, RRuntimeWarning)\n",
      "/Users/sailyourlife/anaconda3/envs/nextopt/lib/python3.6/site-packages/rpy2/rinterface/__init__.py:145: RRuntimeWarning: Making 'packages.html' ...\n",
      "  warnings.warn(x, RRuntimeWarning)\n",
      "/Users/sailyourlife/anaconda3/envs/nextopt/lib/python3.6/site-packages/rpy2/rinterface/__init__.py:145: RRuntimeWarning:  done\n",
      "\n",
      "  warnings.warn(x, RRuntimeWarning)\n"
     ]
    },
    {
     "data": {
      "text/plain": [
       "rpy2.rinterface.NULL"
      ]
     },
     "execution_count": 2,
     "metadata": {},
     "output_type": "execute_result"
    }
   ],
   "source": [
    "utils = importr('utils')\n",
    "utils.install_packages('forecast')"
   ]
  },
  {
   "cell_type": "code",
   "execution_count": 19,
   "metadata": {},
   "outputs": [
    {
     "name": "stdout",
     "output_type": "stream",
     "text": [
      "--- Please select a CRAN mirror for use in this session ---\n",
      "\n",
      "\n",
      "\n",
      "Secure CRAN mirrors\n",
      " \n",
      "\n",
      "\n",
      "\n",
      "\n",
      "\n",
      " 1: 0-Cloud [https]                   2: Algeria [https]                \n",
      " 3: Australia (Canberra) [https]      4: Australia (Melbourne 1) [https]\n",
      " 5: Australia (Melbourne 2) [https]   6: Australia (Perth) [https]      \n",
      " 7: Austria [https]                   8: Belgium (Ghent) [https]        \n",
      " 9: Brazil (PR) [https]              10: Brazil (RJ) [https]            \n",
      "11: Brazil (SP 1) [https]            12: Brazil (SP 2) [https]          \n",
      "13: Bulgaria [https]                 14: Chile 1 [https]                \n",
      "15: Chile 2 [https]                  16: China (Guangzhou) [https]      \n",
      "17: China (Lanzhou) [https]          18: China (Shanghai) [https]       \n",
      "19: Colombia (Cali) [https]          20: Czech Republic [https]         \n",
      "21: Denmark [https]                  22: East Asia [https]              \n",
      "23: Ecuador (Cuenca) [https]         24: Ecuador (Quito) [https]        \n",
      "25: Estonia [https]                  26: France (Lyon 1) [https]        \n",
      "27: France (Lyon 2) [https]          28: France (Marseille) [https]     \n",
      "29: France (Montpellier) [https]     30: France (Paris 2) [https]       \n",
      "31: Germany (Erlangen) [https]       32: Germany (Göttingen) [https]    \n",
      "33: Germany (Münster) [https]        34: Greece [https]                 \n",
      "35: Iceland [https]                  36: Indonesia (Jakarta) [https]    \n",
      "37: Ireland [https]                  38: Italy (Padua) [https]          \n",
      "39: Japan (Tokyo) [https]            40: Japan (Yonezawa) [https]       \n",
      "41: Malaysia [https]                 42: Mexico (Mexico City) [https]   \n",
      "43: Norway [https]                   44: Philippines [https]            \n",
      "45: Serbia [https]                   46: Spain (A Coruña) [https]       \n",
      "47: Spain (Madrid) [https]           48: Sweden [https]                 \n",
      "49: Switzerland [https]              50: Turkey (Denizli) [https]       \n",
      "51: Turkey (Mersin) [https]          52: UK (Bristol) [https]           \n",
      "53: UK (Cambridge) [https]           54: UK (London 1) [https]          \n",
      "55: USA (CA 1) [https]               56: USA (IA) [https]               \n",
      "57: USA (KS) [https]                 58: USA (MI 1) [https]             \n",
      "59: USA (NY) [https]                 60: USA (OR) [https]               \n",
      "61: USA (TN) [https]                 62: USA (TX 1) [https]             \n",
      "63: Vietnam [https]                  64: (other mirrors)                \n",
      "\n",
      "\n",
      "\n",
      "\n",
      "\n",
      "\n",
      "Selection: 64\n",
      "Other CRAN mirrors\n",
      " \n",
      "\n",
      "\n",
      "\n",
      "\n",
      "\n",
      " 1: 0-Cloud                           2: Algeria                        \n",
      " 3: Argentina (La Plata)              4: Australia (Canberra)           \n",
      " 5: Austria                           6: Belgium (Antwerp)              \n",
      " 7: Belgium (Ghent)                   8: Brazil (BA)                    \n",
      " 9: Brazil (PR)                      10: Brazil (RJ)                    \n",
      "11: Brazil (SP 1)                    12: Brazil (SP 2)                  \n",
      "13: Bulgaria                         14: Canada (BC)                    \n",
      "15: Canada (MB) [https]              16: Canada (MB)                    \n",
      "17: Canada (NS)                      18: Canada (ON)                    \n",
      "19: Chile 1                          20: China (Beijing) [https]        \n",
      "21: China (Beijing)                  22: China (Hefei) [https]          \n",
      "23: China (Hefei)                    24: China (Lanzhou)                \n",
      "25: Colombia (Cali)                  26: Czech Republic                 \n",
      "27: Denmark                          28: Ecuador (Cuenca)               \n",
      "29: El Salvador                      30: Estonia                        \n",
      "31: France (Lyon 2)                  32: France (Marseille)             \n",
      "33: France (Montpellier)             34: France (Paris 1)               \n",
      "35: France (Paris 2)                 36: Germany (Göttingen)            \n",
      "37: Germany (Münster)                38: Greece                         \n",
      "39: Hungary                          40: Iceland                        \n",
      "41: India [https]                    42: India                          \n",
      "43: Iran                             44: Ireland                        \n",
      "45: Italy (Milano)                   46: Italy (Padua)                  \n",
      "47: Italy (Palermo)                  48: Japan (Tokyo)                  \n",
      "49: Korea (Seoul 2)                  50: Korea (Ulsan)                  \n",
      "51: Malaysia                         52: Mexico (Mexico City)           \n",
      "53: Mexico (Texcoco)                 54: New Zealand [https]            \n",
      "55: New Zealand                      56: Norway                         \n",
      "57: Philippines                      58: Portugal (Lisbon)              \n",
      "59: Portugal (Porto)                 60: Singapore (Singapore 1) [https]\n",
      "61: Singapore (Singapore 2)          62: Singapore (Singapore 2) [https]\n",
      "63: South Africa (Cape Town)         64: South Africa (Johannesburg)    \n",
      "65: Spain (A Coruña)                 66: Spain (Madrid)                 \n",
      "67: Sweden                           68: Switzerland                    \n",
      "69: Taiwan (Chungli) [https]         70: Taiwan (Chungli)               \n",
      "71: Taiwan (Taipei)                  72: Thailand                       \n",
      "73: Turkey (Denizli)                 74: Turkey (Mersin)                \n",
      "75: UK (Bristol)                     76: UK (Cambridge)                 \n",
      "77: UK (London 1)                    78: USA (CA 1)                     \n",
      "79: USA (CA 2)                       80: USA (IA)                       \n",
      "81: USA (IN) [https]                 82: USA (IN)                       \n",
      "83: USA (KS)                         84: USA (MI 1)                     \n",
      "85: USA (MO)                         86: USA (NC)                       \n",
      "87: USA (OH) [https]                 88: USA (OH)                       \n",
      "89: USA (OR)                         90: USA (PA 1)                     \n",
      "91: USA (PA 2)                       92: USA (TN)                       \n",
      "93: USA (TX 1)                       94: Venezuela                      \n",
      "\n",
      "\n",
      "\n",
      "\n",
      "\n",
      "\n",
      "Selection: 49\n"
     ]
    },
    {
     "name": "stderr",
     "output_type": "stream",
     "text": [
      "/Users/sailyourlife/anaconda3/envs/nextopt/lib/python3.6/site-packages/rpy2/rinterface/__init__.py:145: RRuntimeWarning: also installing the dependencies ‘stringi’, ‘stringr’, ‘MASS’, ‘reshape2’\n",
      "\n",
      "\n",
      "  warnings.warn(x, RRuntimeWarning)\n",
      "/Users/sailyourlife/anaconda3/envs/nextopt/lib/python3.6/site-packages/rpy2/rinterface/__init__.py:145: RRuntimeWarning: trying URL 'http://healthstat.snu.ac.kr/CRAN/src/contrib/stringi_1.1.7.tar.gz'\n",
      "\n",
      "  warnings.warn(x, RRuntimeWarning)\n",
      "/Users/sailyourlife/anaconda3/envs/nextopt/lib/python3.6/site-packages/rpy2/rinterface/__init__.py:145: RRuntimeWarning: Content type 'application/octet-stream'\n",
      "  warnings.warn(x, RRuntimeWarning)\n",
      "/Users/sailyourlife/anaconda3/envs/nextopt/lib/python3.6/site-packages/rpy2/rinterface/__init__.py:145: RRuntimeWarning:  length 3646915 bytes (3.5 MB)\n",
      "\n",
      "  warnings.warn(x, RRuntimeWarning)\n",
      "/Users/sailyourlife/anaconda3/envs/nextopt/lib/python3.6/site-packages/rpy2/rinterface/__init__.py:145: RRuntimeWarning: =\n",
      "  warnings.warn(x, RRuntimeWarning)\n",
      "/Users/sailyourlife/anaconda3/envs/nextopt/lib/python3.6/site-packages/rpy2/rinterface/__init__.py:145: RRuntimeWarning: \n",
      "\n",
      "  warnings.warn(x, RRuntimeWarning)\n",
      "/Users/sailyourlife/anaconda3/envs/nextopt/lib/python3.6/site-packages/rpy2/rinterface/__init__.py:145: RRuntimeWarning: downloaded 3.5 MB\n",
      "\n",
      "\n",
      "  warnings.warn(x, RRuntimeWarning)\n",
      "/Users/sailyourlife/anaconda3/envs/nextopt/lib/python3.6/site-packages/rpy2/rinterface/__init__.py:145: RRuntimeWarning: trying URL 'http://healthstat.snu.ac.kr/CRAN/src/contrib/stringr_1.3.0.tar.gz'\n",
      "\n",
      "  warnings.warn(x, RRuntimeWarning)\n",
      "/Users/sailyourlife/anaconda3/envs/nextopt/lib/python3.6/site-packages/rpy2/rinterface/__init__.py:145: RRuntimeWarning:  length 118333 bytes (115 KB)\n",
      "\n",
      "  warnings.warn(x, RRuntimeWarning)\n",
      "/Users/sailyourlife/anaconda3/envs/nextopt/lib/python3.6/site-packages/rpy2/rinterface/__init__.py:145: RRuntimeWarning: downloaded 115 KB\n",
      "\n",
      "\n",
      "  warnings.warn(x, RRuntimeWarning)\n",
      "/Users/sailyourlife/anaconda3/envs/nextopt/lib/python3.6/site-packages/rpy2/rinterface/__init__.py:145: RRuntimeWarning: trying URL 'http://healthstat.snu.ac.kr/CRAN/src/contrib/MASS_7.3-49.tar.gz'\n",
      "\n",
      "  warnings.warn(x, RRuntimeWarning)\n",
      "/Users/sailyourlife/anaconda3/envs/nextopt/lib/python3.6/site-packages/rpy2/rinterface/__init__.py:145: RRuntimeWarning:  length 487772 bytes (476 KB)\n",
      "\n",
      "  warnings.warn(x, RRuntimeWarning)\n",
      "/Users/sailyourlife/anaconda3/envs/nextopt/lib/python3.6/site-packages/rpy2/rinterface/__init__.py:145: RRuntimeWarning: downloaded 476 KB\n",
      "\n",
      "\n",
      "  warnings.warn(x, RRuntimeWarning)\n",
      "/Users/sailyourlife/anaconda3/envs/nextopt/lib/python3.6/site-packages/rpy2/rinterface/__init__.py:145: RRuntimeWarning: trying URL 'http://healthstat.snu.ac.kr/CRAN/src/contrib/reshape2_1.4.3.tar.gz'\n",
      "\n",
      "  warnings.warn(x, RRuntimeWarning)\n",
      "/Users/sailyourlife/anaconda3/envs/nextopt/lib/python3.6/site-packages/rpy2/rinterface/__init__.py:145: RRuntimeWarning:  length 36405 bytes (35 KB)\n",
      "\n",
      "  warnings.warn(x, RRuntimeWarning)\n",
      "/Users/sailyourlife/anaconda3/envs/nextopt/lib/python3.6/site-packages/rpy2/rinterface/__init__.py:145: RRuntimeWarning: downloaded 35 KB\n",
      "\n",
      "\n",
      "  warnings.warn(x, RRuntimeWarning)\n",
      "/Users/sailyourlife/anaconda3/envs/nextopt/lib/python3.6/site-packages/rpy2/rinterface/__init__.py:145: RRuntimeWarning: trying URL 'http://healthstat.snu.ac.kr/CRAN/src/contrib/ggplot2_2.2.1.tar.gz'\n",
      "\n",
      "  warnings.warn(x, RRuntimeWarning)\n",
      "/Users/sailyourlife/anaconda3/envs/nextopt/lib/python3.6/site-packages/rpy2/rinterface/__init__.py:145: RRuntimeWarning:  length 2213308 bytes (2.1 MB)\n",
      "\n",
      "  warnings.warn(x, RRuntimeWarning)\n",
      "/Users/sailyourlife/anaconda3/envs/nextopt/lib/python3.6/site-packages/rpy2/rinterface/__init__.py:145: RRuntimeWarning: downloaded 2.1 MB\n",
      "\n",
      "\n",
      "  warnings.warn(x, RRuntimeWarning)\n",
      "/Users/sailyourlife/anaconda3/envs/nextopt/lib/python3.6/site-packages/rpy2/rinterface/__init__.py:145: RRuntimeWarning: \n",
      "  warnings.warn(x, RRuntimeWarning)\n",
      "/Users/sailyourlife/anaconda3/envs/nextopt/lib/python3.6/site-packages/rpy2/rinterface/__init__.py:145: RRuntimeWarning: The downloaded source packages are in\n",
      "\t‘/private/var/folders/33/yywgd_5n4q1dchwjv35l7_3w0000gn/T/RtmpdUQalp/downloaded_packages’\n",
      "  warnings.warn(x, RRuntimeWarning)\n",
      "/Users/sailyourlife/anaconda3/envs/nextopt/lib/python3.6/site-packages/rpy2/rinterface/__init__.py:145: RRuntimeWarning: Updating HTML index of packages in '.Library'\n",
      "\n",
      "  warnings.warn(x, RRuntimeWarning)\n",
      "/Users/sailyourlife/anaconda3/envs/nextopt/lib/python3.6/site-packages/rpy2/rinterface/__init__.py:145: RRuntimeWarning: Making 'packages.html' ...\n",
      "  warnings.warn(x, RRuntimeWarning)\n",
      "/Users/sailyourlife/anaconda3/envs/nextopt/lib/python3.6/site-packages/rpy2/rinterface/__init__.py:145: RRuntimeWarning:  done\n",
      "\n",
      "  warnings.warn(x, RRuntimeWarning)\n"
     ]
    },
    {
     "data": {
      "text/plain": [
       "rpy2.rinterface.NULL"
      ]
     },
     "execution_count": 19,
     "metadata": {},
     "output_type": "execute_result"
    }
   ],
   "source": [
    "utils = importr('utils')\n",
    "utils.install_packages('ggplot2')"
   ]
  },
  {
   "cell_type": "markdown",
   "metadata": {
    "collapsed": true
   },
   "source": [
    "# 3. R TS 클래스 및 Forecast 패키지 가져오기"
   ]
  },
  {
   "cell_type": "markdown",
   "metadata": {},
   "source": [
    "R 에서는 ts object로 시계열 데이터를 다룬다 "
   ]
  },
  {
   "cell_type": "code",
   "execution_count": 2,
   "metadata": {},
   "outputs": [],
   "source": [
    "ts= robjects.r('ts')\n",
    "forecast = importr('forecast')"
   ]
  },
  {
   "cell_type": "markdown",
   "metadata": {},
   "source": [
    "# 4. 데이터 로딩 및 전처리"
   ]
  },
  {
   "cell_type": "code",
   "execution_count": 3,
   "metadata": {},
   "outputs": [
    {
     "name": "stderr",
     "output_type": "stream",
     "text": [
      "/Users/sailyourlife/anaconda3/envs/nextopt/lib/python3.6/site-packages/ipykernel_launcher.py:13: FutureWarning: set_value is deprecated and will be removed in a future release. Please use .at[] or .iat[] accessors instead\n",
      "  del sys.path[0]\n"
     ]
    }
   ],
   "source": [
    "from datetime import datetime, timedelta\n",
    "import pandas as pd\n",
    "\n",
    "df= pd.read_csv('./UKgas.csv',index_col=0)\n",
    "\n",
    "df['time'] = df['time'].apply(lambda x: str(x)[:-2])\n",
    "df['time'] = df['time'].apply(lambda x: x.split('.')[0])\n",
    "df['time'] = df['time'].apply(lambda x: datetime.strptime(x, '%Y'))\n",
    "\n",
    "df.index = range(len(df))\n",
    "for index, row in df.iterrows():\n",
    "    quarter = index % 4\n",
    "    df.set_value(index, 'time', row['time'] + timedelta(days = 90 * quarter))"
   ]
  },
  {
   "cell_type": "code",
   "execution_count": 4,
   "metadata": {},
   "outputs": [
    {
     "data": {
      "text/html": [
       "<div>\n",
       "<style scoped>\n",
       "    .dataframe tbody tr th:only-of-type {\n",
       "        vertical-align: middle;\n",
       "    }\n",
       "\n",
       "    .dataframe tbody tr th {\n",
       "        vertical-align: top;\n",
       "    }\n",
       "\n",
       "    .dataframe thead th {\n",
       "        text-align: right;\n",
       "    }\n",
       "</style>\n",
       "<table border=\"1\" class=\"dataframe\">\n",
       "  <thead>\n",
       "    <tr style=\"text-align: right;\">\n",
       "      <th></th>\n",
       "      <th>time</th>\n",
       "      <th>value</th>\n",
       "    </tr>\n",
       "  </thead>\n",
       "  <tbody>\n",
       "    <tr>\n",
       "      <th>0</th>\n",
       "      <td>1960-01-01</td>\n",
       "      <td>160.1</td>\n",
       "    </tr>\n",
       "    <tr>\n",
       "      <th>1</th>\n",
       "      <td>1960-03-31</td>\n",
       "      <td>129.7</td>\n",
       "    </tr>\n",
       "    <tr>\n",
       "      <th>2</th>\n",
       "      <td>1960-06-29</td>\n",
       "      <td>84.8</td>\n",
       "    </tr>\n",
       "    <tr>\n",
       "      <th>3</th>\n",
       "      <td>1960-09-27</td>\n",
       "      <td>120.1</td>\n",
       "    </tr>\n",
       "    <tr>\n",
       "      <th>4</th>\n",
       "      <td>1961-01-01</td>\n",
       "      <td>160.1</td>\n",
       "    </tr>\n",
       "  </tbody>\n",
       "</table>\n",
       "</div>"
      ],
      "text/plain": [
       "        time  value\n",
       "0 1960-01-01  160.1\n",
       "1 1960-03-31  129.7\n",
       "2 1960-06-29   84.8\n",
       "3 1960-09-27  120.1\n",
       "4 1961-01-01  160.1"
      ]
     },
     "execution_count": 4,
     "metadata": {},
     "output_type": "execute_result"
    }
   ],
   "source": [
    "df.head()"
   ]
  },
  {
   "cell_type": "code",
   "execution_count": 5,
   "metadata": {},
   "outputs": [
    {
     "data": {
      "text/html": [
       "<div>\n",
       "<style scoped>\n",
       "    .dataframe tbody tr th:only-of-type {\n",
       "        vertical-align: middle;\n",
       "    }\n",
       "\n",
       "    .dataframe tbody tr th {\n",
       "        vertical-align: top;\n",
       "    }\n",
       "\n",
       "    .dataframe thead th {\n",
       "        text-align: right;\n",
       "    }\n",
       "</style>\n",
       "<table border=\"1\" class=\"dataframe\">\n",
       "  <thead>\n",
       "    <tr style=\"text-align: right;\">\n",
       "      <th></th>\n",
       "      <th>time</th>\n",
       "      <th>value</th>\n",
       "    </tr>\n",
       "  </thead>\n",
       "  <tbody>\n",
       "    <tr>\n",
       "      <th>103</th>\n",
       "      <td>1985-09-28</td>\n",
       "      <td>787.6</td>\n",
       "    </tr>\n",
       "    <tr>\n",
       "      <th>104</th>\n",
       "      <td>1986-01-01</td>\n",
       "      <td>1163.9</td>\n",
       "    </tr>\n",
       "    <tr>\n",
       "      <th>105</th>\n",
       "      <td>1986-04-01</td>\n",
       "      <td>613.1</td>\n",
       "    </tr>\n",
       "    <tr>\n",
       "      <th>106</th>\n",
       "      <td>1986-06-30</td>\n",
       "      <td>347.4</td>\n",
       "    </tr>\n",
       "    <tr>\n",
       "      <th>107</th>\n",
       "      <td>1986-09-28</td>\n",
       "      <td>782.8</td>\n",
       "    </tr>\n",
       "  </tbody>\n",
       "</table>\n",
       "</div>"
      ],
      "text/plain": [
       "          time   value\n",
       "103 1985-09-28   787.6\n",
       "104 1986-01-01  1163.9\n",
       "105 1986-04-01   613.1\n",
       "106 1986-06-30   347.4\n",
       "107 1986-09-28   782.8"
      ]
     },
     "execution_count": 5,
     "metadata": {},
     "output_type": "execute_result"
    }
   ],
   "source": [
    "df.tail()"
   ]
  },
  {
   "cell_type": "code",
   "execution_count": 6,
   "metadata": {},
   "outputs": [],
   "source": [
    "df.index = df['time']\n",
    "del df['time']\n",
    "df.columns = ['y']"
   ]
  },
  {
   "cell_type": "code",
   "execution_count": 7,
   "metadata": {},
   "outputs": [],
   "source": [
    "train_df = df[:-16]\n",
    "test_df = df[-16:]"
   ]
  },
  {
   "cell_type": "code",
   "execution_count": 8,
   "metadata": {},
   "outputs": [
    {
     "name": "stdout",
     "output_type": "stream",
     "text": [
      "Train 데이터 개수:  92 Test 데이터 개수:  16\n"
     ]
    }
   ],
   "source": [
    "print(\"Train 데이터 개수: \", len(train_df), \"Test 데이터 개수: \", len(test_df))"
   ]
  },
  {
   "cell_type": "code",
   "execution_count": 10,
   "metadata": {},
   "outputs": [
    {
     "data": {
      "text/html": [
       "<div>\n",
       "<style scoped>\n",
       "    .dataframe tbody tr th:only-of-type {\n",
       "        vertical-align: middle;\n",
       "    }\n",
       "\n",
       "    .dataframe tbody tr th {\n",
       "        vertical-align: top;\n",
       "    }\n",
       "\n",
       "    .dataframe thead th {\n",
       "        text-align: right;\n",
       "    }\n",
       "</style>\n",
       "<table border=\"1\" class=\"dataframe\">\n",
       "  <thead>\n",
       "    <tr style=\"text-align: right;\">\n",
       "      <th></th>\n",
       "      <th>y</th>\n",
       "    </tr>\n",
       "    <tr>\n",
       "      <th>time</th>\n",
       "      <th></th>\n",
       "    </tr>\n",
       "  </thead>\n",
       "  <tbody>\n",
       "    <tr>\n",
       "      <th>1983-01-01</th>\n",
       "      <td>917.3</td>\n",
       "    </tr>\n",
       "    <tr>\n",
       "      <th>1983-04-01</th>\n",
       "      <td>515.5</td>\n",
       "    </tr>\n",
       "    <tr>\n",
       "      <th>1983-06-30</th>\n",
       "      <td>224.1</td>\n",
       "    </tr>\n",
       "    <tr>\n",
       "      <th>1983-09-28</th>\n",
       "      <td>694.8</td>\n",
       "    </tr>\n",
       "    <tr>\n",
       "      <th>1984-01-01</th>\n",
       "      <td>989.4</td>\n",
       "    </tr>\n",
       "    <tr>\n",
       "      <th>1984-03-31</th>\n",
       "      <td>477.1</td>\n",
       "    </tr>\n",
       "    <tr>\n",
       "      <th>1984-06-29</th>\n",
       "      <td>233.7</td>\n",
       "    </tr>\n",
       "    <tr>\n",
       "      <th>1984-09-27</th>\n",
       "      <td>730.0</td>\n",
       "    </tr>\n",
       "    <tr>\n",
       "      <th>1985-01-01</th>\n",
       "      <td>1087.0</td>\n",
       "    </tr>\n",
       "    <tr>\n",
       "      <th>1985-04-01</th>\n",
       "      <td>534.7</td>\n",
       "    </tr>\n",
       "    <tr>\n",
       "      <th>1985-06-30</th>\n",
       "      <td>281.8</td>\n",
       "    </tr>\n",
       "    <tr>\n",
       "      <th>1985-09-28</th>\n",
       "      <td>787.6</td>\n",
       "    </tr>\n",
       "    <tr>\n",
       "      <th>1986-01-01</th>\n",
       "      <td>1163.9</td>\n",
       "    </tr>\n",
       "    <tr>\n",
       "      <th>1986-04-01</th>\n",
       "      <td>613.1</td>\n",
       "    </tr>\n",
       "    <tr>\n",
       "      <th>1986-06-30</th>\n",
       "      <td>347.4</td>\n",
       "    </tr>\n",
       "    <tr>\n",
       "      <th>1986-09-28</th>\n",
       "      <td>782.8</td>\n",
       "    </tr>\n",
       "  </tbody>\n",
       "</table>\n",
       "</div>"
      ],
      "text/plain": [
       "                 y\n",
       "time              \n",
       "1983-01-01   917.3\n",
       "1983-04-01   515.5\n",
       "1983-06-30   224.1\n",
       "1983-09-28   694.8\n",
       "1984-01-01   989.4\n",
       "1984-03-31   477.1\n",
       "1984-06-29   233.7\n",
       "1984-09-27   730.0\n",
       "1985-01-01  1087.0\n",
       "1985-04-01   534.7\n",
       "1985-06-30   281.8\n",
       "1985-09-28   787.6\n",
       "1986-01-01  1163.9\n",
       "1986-04-01   613.1\n",
       "1986-06-30   347.4\n",
       "1986-09-28   782.8"
      ]
     },
     "execution_count": 10,
     "metadata": {},
     "output_type": "execute_result"
    }
   ],
   "source": [
    "test_df"
   ]
  },
  {
   "cell_type": "markdown",
   "metadata": {},
   "source": [
    "# 5. R 코드 사용하기"
   ]
  },
  {
   "cell_type": "markdown",
   "metadata": {},
   "source": [
    "### Rpy2\n",
    "\n",
    "rpy2 is an interface to R running embedded in a Python process, and also includes functionality to deal with pandas DataFrames. Converting data frames back and forth between rpy2 and pandas should be largely automated (no need to convert explicitly, it will be done on the fly in most rpy2 functions). To convert explicitly, the functions are pandas2ri.py2ri() and pandas2ri.ri2py()."
   ]
  },
  {
   "cell_type": "markdown",
   "metadata": {},
   "source": [
    "Once the pandas conversion is activated (pandas2ri.activate()), many conversions of R to pandas objects will be done automatically. For example, to obtain the ‘iris’ dataset as a pandas DataFrame\n",
    "\n",
    "<a href=\"https://pandas.pydata.org/pandas-docs/stable/r_interface.html\">다음 링크에 사용법이 나와있습니다.</a>"
   ]
  },
  {
   "cell_type": "markdown",
   "metadata": {},
   "source": [
    "파이썬에서 데이터 프레임을 만들고 R에서는 Run만 하고 결과 값을 데이터 프레임 형태로 Python으로 던져준다."
   ]
  },
  {
   "cell_type": "code",
   "execution_count": 11,
   "metadata": {},
   "outputs": [],
   "source": [
    "from rpy2.robjects import pandas2ri\n",
    "pandas2ri.activate()\n",
    "\n",
    "# 여기에서는 Auto Arima를 사용했다.\n",
    "rstring=\"\"\"\n",
    "    function(testdata){\n",
    "        library(forecast)\n",
    "        fitted_model<-auto.arima(testdata)\n",
    "        forecasted_data<-forecast(fitted_model,h=16,level=c(95))\n",
    "        outdf<-data.frame(forecasted_data$mean,forecasted_data$lower,forecasted_data$upper)\n",
    "        colnames(outdf)<-c('forecast','lower_95_pi','upper_95_pi')\n",
    "        outdf\n",
    "    }\n",
    "\"\"\""
   ]
  },
  {
   "cell_type": "code",
   "execution_count": 12,
   "metadata": {},
   "outputs": [],
   "source": [
    "rfunc = robjects.r(rstring)"
   ]
  },
  {
   "cell_type": "code",
   "execution_count": 13,
   "metadata": {},
   "outputs": [
    {
     "data": {
      "text/html": [
       "\n",
       "    <span>FloatVector with 92 elements.</span>\n",
       "    <table>\n",
       "      <tbody>\n",
       "      <tr>\n",
       "      \n",
       "      <td>\n",
       "        160.100000\n",
       "      </td>\n",
       "      \n",
       "      <td>\n",
       "        129.700000\n",
       "      </td>\n",
       "      \n",
       "      <td>\n",
       "        84.800000\n",
       "      </td>\n",
       "      \n",
       "      <td>\n",
       "        120.100000\n",
       "      </td>\n",
       "      \n",
       "      <td>\n",
       "        ...\n",
       "      </td>\n",
       "      \n",
       "      <td>\n",
       "        925.300000\n",
       "      </td>\n",
       "      \n",
       "      <td>\n",
       "        443.400000\n",
       "      </td>\n",
       "      \n",
       "      <td>\n",
       "        214.500000\n",
       "      </td>\n",
       "      \n",
       "      <td>\n",
       "        683.600000\n",
       "      </td>\n",
       "      \n",
       "      </tr>\n",
       "      </tbody>\n",
       "    </table>\n",
       "    "
      ],
      "text/plain": [
       "R object with classes: ('ts',) mapped to:\n",
       "<FloatVector - Python:0x10aef6dc8 / R:0x7ff8c97c50d0>\n",
       "[160.100000, 129.700000, 84.800000, 120.100000, ..., 925.300000, 443.400000, 214.500000, 683.600000]"
      ]
     },
     "execution_count": 13,
     "metadata": {},
     "output_type": "execute_result"
    }
   ],
   "source": [
    "train_df_r = ts(train_df.y, frequency=4)\n",
    "train_df_r"
   ]
  },
  {
   "cell_type": "code",
   "execution_count": 14,
   "metadata": {},
   "outputs": [],
   "source": [
    "forecast_df_r = rfunc(train_df_r)"
   ]
  },
  {
   "cell_type": "code",
   "execution_count": 15,
   "metadata": {},
   "outputs": [
    {
     "data": {
      "text/html": [
       "\n",
       "    <span>R/rpy2 DataFrame (16 x 3)</span>\n",
       "    <table>\n",
       "      <thead>\n",
       "        <tr>\n",
       "        \n",
       "          <th>forecast</th>\n",
       "        \n",
       "          <th>lower_95_pi</th>\n",
       "        \n",
       "          <th>upper_95_pi</th>\n",
       "        \n",
       "        </tr>\n",
       "      </thead>\n",
       "      <tbody>\n",
       "      \n",
       "      <tr>\n",
       "      \n",
       "      <td>\n",
       "        972.528674\n",
       "      </td>\n",
       "      \n",
       "      <td>\n",
       "        910.977210\n",
       "      </td>\n",
       "      \n",
       "      <td>\n",
       "        1034.080139\n",
       "      </td>\n",
       "      \n",
       "      </tr>\n",
       "      \n",
       "      <tr>\n",
       "      \n",
       "      <td>\n",
       "        479.495886\n",
       "      </td>\n",
       "      \n",
       "      <td>\n",
       "        417.944236\n",
       "      </td>\n",
       "      \n",
       "      <td>\n",
       "        541.047536\n",
       "      </td>\n",
       "      \n",
       "      </tr>\n",
       "      \n",
       "      <tr>\n",
       "      \n",
       "      <td>\n",
       "        218.889989\n",
       "      </td>\n",
       "      \n",
       "      <td>\n",
       "        155.032375\n",
       "      </td>\n",
       "      \n",
       "      <td>\n",
       "        282.747603\n",
       "      </td>\n",
       "      \n",
       "      </tr>\n",
       "      \n",
       "      </tbody>\n",
       "    </table>\n",
       "    "
      ],
      "text/plain": [
       "R object with classes: ('data.frame',) mapped to:\n",
       "<DataFrame - Python:0x103c1a088 / R:0x7ff8cb2b7a80>\n",
       "[FloatVector, FloatVector, FloatVector]\n",
       "  forecast: <class 'rpy2.robjects.vectors.FloatVector'>\n",
       "  R object with classes: ('ts',) mapped to:\n",
       "<FloatVector - Python:0x10af34a08 / R:0x7ff8cb2a7158>\n",
       "[972.528674, 479.495886, 218.889989, 717.065759, ..., 1081.145348, 557.355505, 264.848060, 800.341578]\n",
       "  lower_95_pi: <class 'rpy2.robjects.vectors.FloatVector'>\n",
       "  R object with classes: ('numeric',) mapped to:\n",
       "<FloatVector - Python:0x10af34bc8 / R:0x7ff8cbeacdf8>\n",
       "[910.977210, 417.944236, 155.032375, 651.839554, ..., 933.770185, 409.138392, 114.922580, 648.194411]\n",
       "  upper_95_pi: <class 'rpy2.robjects.vectors.FloatVector'>\n",
       "  R object with classes: ('numeric',) mapped to:\n",
       "<FloatVector - Python:0x10b09c288 / R:0x7ff8cbe98ff0>\n",
       "[1034.080139, 541.047536, 282.747603, 782.291965, ..., 1228.520510, 705.572619, 414.773540, 952.488744]"
      ]
     },
     "execution_count": 15,
     "metadata": {},
     "output_type": "execute_result"
    }
   ],
   "source": [
    "forecast_df_r"
   ]
  },
  {
   "cell_type": "markdown",
   "metadata": {},
   "source": [
    "# 6. R Dataframe을 Python으로 변환"
   ]
  },
  {
   "cell_type": "code",
   "execution_count": 16,
   "metadata": {},
   "outputs": [],
   "source": [
    "forecast_df = pandas2ri.ri2py(forecast_df_r)"
   ]
  },
  {
   "cell_type": "code",
   "execution_count": 17,
   "metadata": {},
   "outputs": [
    {
     "data": {
      "text/html": [
       "<div>\n",
       "<style scoped>\n",
       "    .dataframe tbody tr th:only-of-type {\n",
       "        vertical-align: middle;\n",
       "    }\n",
       "\n",
       "    .dataframe tbody tr th {\n",
       "        vertical-align: top;\n",
       "    }\n",
       "\n",
       "    .dataframe thead th {\n",
       "        text-align: right;\n",
       "    }\n",
       "</style>\n",
       "<table border=\"1\" class=\"dataframe\">\n",
       "  <thead>\n",
       "    <tr style=\"text-align: right;\">\n",
       "      <th></th>\n",
       "      <th>forecast</th>\n",
       "      <th>lower_95_pi</th>\n",
       "      <th>upper_95_pi</th>\n",
       "    </tr>\n",
       "  </thead>\n",
       "  <tbody>\n",
       "    <tr>\n",
       "      <th>1</th>\n",
       "      <td>972.528674</td>\n",
       "      <td>910.977210</td>\n",
       "      <td>1034.080139</td>\n",
       "    </tr>\n",
       "    <tr>\n",
       "      <th>2</th>\n",
       "      <td>479.495886</td>\n",
       "      <td>417.944236</td>\n",
       "      <td>541.047536</td>\n",
       "    </tr>\n",
       "    <tr>\n",
       "      <th>3</th>\n",
       "      <td>218.889989</td>\n",
       "      <td>155.032375</td>\n",
       "      <td>282.747603</td>\n",
       "    </tr>\n",
       "    <tr>\n",
       "      <th>4</th>\n",
       "      <td>717.065759</td>\n",
       "      <td>651.839554</td>\n",
       "      <td>782.291965</td>\n",
       "    </tr>\n",
       "    <tr>\n",
       "      <th>5</th>\n",
       "      <td>1008.488786</td>\n",
       "      <td>916.865236</td>\n",
       "      <td>1100.112336</td>\n",
       "    </tr>\n",
       "  </tbody>\n",
       "</table>\n",
       "</div>"
      ],
      "text/plain": [
       "      forecast  lower_95_pi  upper_95_pi\n",
       "1   972.528674   910.977210  1034.080139\n",
       "2   479.495886   417.944236   541.047536\n",
       "3   218.889989   155.032375   282.747603\n",
       "4   717.065759   651.839554   782.291965\n",
       "5  1008.488786   916.865236  1100.112336"
      ]
     },
     "execution_count": 17,
     "metadata": {},
     "output_type": "execute_result"
    }
   ],
   "source": [
    "forecast_df.head()"
   ]
  },
  {
   "cell_type": "code",
   "execution_count": 108,
   "metadata": {},
   "outputs": [
    {
     "data": {
      "text/plain": [
       "forecast       16\n",
       "lower_95_pi    16\n",
       "upper_95_pi    16\n",
       "dtype: int64"
      ]
     },
     "execution_count": 108,
     "metadata": {},
     "output_type": "execute_result"
    }
   ],
   "source": [
    "forecast_df.count()"
   ]
  },
  {
   "cell_type": "code",
   "execution_count": 109,
   "metadata": {},
   "outputs": [],
   "source": [
    "forecast_df.index = test_df.index"
   ]
  },
  {
   "cell_type": "code",
   "execution_count": 113,
   "metadata": {},
   "outputs": [
    {
     "data": {
      "text/html": [
       "<div>\n",
       "<style scoped>\n",
       "    .dataframe tbody tr th:only-of-type {\n",
       "        vertical-align: middle;\n",
       "    }\n",
       "\n",
       "    .dataframe tbody tr th {\n",
       "        vertical-align: top;\n",
       "    }\n",
       "\n",
       "    .dataframe thead th {\n",
       "        text-align: right;\n",
       "    }\n",
       "</style>\n",
       "<table border=\"1\" class=\"dataframe\">\n",
       "  <thead>\n",
       "    <tr style=\"text-align: right;\">\n",
       "      <th></th>\n",
       "      <th>forecast</th>\n",
       "      <th>lower_95_pi</th>\n",
       "      <th>upper_95_pi</th>\n",
       "    </tr>\n",
       "    <tr>\n",
       "      <th>time</th>\n",
       "      <th></th>\n",
       "      <th></th>\n",
       "      <th></th>\n",
       "    </tr>\n",
       "  </thead>\n",
       "  <tbody>\n",
       "    <tr>\n",
       "      <th>1983-01-01</th>\n",
       "      <td>972.528674</td>\n",
       "      <td>910.977210</td>\n",
       "      <td>1034.080139</td>\n",
       "    </tr>\n",
       "    <tr>\n",
       "      <th>1983-04-01</th>\n",
       "      <td>479.495886</td>\n",
       "      <td>417.944236</td>\n",
       "      <td>541.047536</td>\n",
       "    </tr>\n",
       "    <tr>\n",
       "      <th>1983-06-30</th>\n",
       "      <td>218.889989</td>\n",
       "      <td>155.032375</td>\n",
       "      <td>282.747603</td>\n",
       "    </tr>\n",
       "    <tr>\n",
       "      <th>1983-09-28</th>\n",
       "      <td>717.065759</td>\n",
       "      <td>651.839554</td>\n",
       "      <td>782.291965</td>\n",
       "    </tr>\n",
       "    <tr>\n",
       "      <th>1984-01-01</th>\n",
       "      <td>1008.488786</td>\n",
       "      <td>916.865236</td>\n",
       "      <td>1100.112336</td>\n",
       "    </tr>\n",
       "  </tbody>\n",
       "</table>\n",
       "</div>"
      ],
      "text/plain": [
       "               forecast  lower_95_pi  upper_95_pi\n",
       "time                                             \n",
       "1983-01-01   972.528674   910.977210  1034.080139\n",
       "1983-04-01   479.495886   417.944236   541.047536\n",
       "1983-06-30   218.889989   155.032375   282.747603\n",
       "1983-09-28   717.065759   651.839554   782.291965\n",
       "1984-01-01  1008.488786   916.865236  1100.112336"
      ]
     },
     "execution_count": 113,
     "metadata": {},
     "output_type": "execute_result"
    }
   ],
   "source": [
    "forecast_df.head()"
   ]
  },
  {
   "cell_type": "code",
   "execution_count": 114,
   "metadata": {},
   "outputs": [
    {
     "data": {
      "text/html": [
       "<div>\n",
       "<style scoped>\n",
       "    .dataframe tbody tr th:only-of-type {\n",
       "        vertical-align: middle;\n",
       "    }\n",
       "\n",
       "    .dataframe tbody tr th {\n",
       "        vertical-align: top;\n",
       "    }\n",
       "\n",
       "    .dataframe thead th {\n",
       "        text-align: right;\n",
       "    }\n",
       "</style>\n",
       "<table border=\"1\" class=\"dataframe\">\n",
       "  <thead>\n",
       "    <tr style=\"text-align: right;\">\n",
       "      <th></th>\n",
       "      <th>y</th>\n",
       "    </tr>\n",
       "    <tr>\n",
       "      <th>time</th>\n",
       "      <th></th>\n",
       "    </tr>\n",
       "  </thead>\n",
       "  <tbody>\n",
       "    <tr>\n",
       "      <th>1983-01-01</th>\n",
       "      <td>917.3</td>\n",
       "    </tr>\n",
       "    <tr>\n",
       "      <th>1983-04-01</th>\n",
       "      <td>515.5</td>\n",
       "    </tr>\n",
       "    <tr>\n",
       "      <th>1983-06-30</th>\n",
       "      <td>224.1</td>\n",
       "    </tr>\n",
       "    <tr>\n",
       "      <th>1983-09-28</th>\n",
       "      <td>694.8</td>\n",
       "    </tr>\n",
       "    <tr>\n",
       "      <th>1984-01-01</th>\n",
       "      <td>989.4</td>\n",
       "    </tr>\n",
       "  </tbody>\n",
       "</table>\n",
       "</div>"
      ],
      "text/plain": [
       "                y\n",
       "time             \n",
       "1983-01-01  917.3\n",
       "1983-04-01  515.5\n",
       "1983-06-30  224.1\n",
       "1983-09-28  694.8\n",
       "1984-01-01  989.4"
      ]
     },
     "execution_count": 114,
     "metadata": {},
     "output_type": "execute_result"
    }
   ],
   "source": [
    "test_df.head()"
   ]
  },
  {
   "cell_type": "markdown",
   "metadata": {},
   "source": [
    "# 7. 시각화"
   ]
  },
  {
   "cell_type": "code",
   "execution_count": 116,
   "metadata": {},
   "outputs": [
    {
     "data": {
      "text/plain": [
       "<matplotlib.legend.Legend at 0x11ccd0048>"
      ]
     },
     "execution_count": 116,
     "metadata": {},
     "output_type": "execute_result"
    },
    {
     "data": {
      "image/png": "[encoded data removed]",
      "text/plain": [
       "<Figure size 432x288 with 1 Axes>"
      ]
     },
     "metadata": {},
     "output_type": "display_data"
    }
   ],
   "source": [
    "import matplotlib.pyplot as plt\n",
    "\n",
    "forecast_df['forecast'].plot()\n",
    "test_df['y'].plot()\n",
    "\n",
    "plt.legend()"
   ]
  }
 ],
 "metadata": {
  "kernelspec": {
   "display_name": "Python 3",
   "language": "python",
   "name": "python3"
  },
  "language_info": {
   "codemirror_mode": {
    "name": "ipython",
    "version": 3
   },
   "file_extension": ".py",
   "mimetype": "text/x-python",
   "name": "python",
   "nbconvert_exporter": "python",
   "pygments_lexer": "ipython3",
   "version": "3.6.4"
  }
 },
 "nbformat": 4,
 "nbformat_minor": 2
}
