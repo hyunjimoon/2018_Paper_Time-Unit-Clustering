{
 "cells": [
  {
   "cell_type": "markdown",
   "metadata": {},
   "source": [
    "본 파일은 엔진의 개선을 위한 여러 실험을 효율적으로 진행하기 위해 만들어졌다. \n",
    "이 파일로 주로 실험을 진행한다"
   ]
  },
  {
   "cell_type": "markdown",
   "metadata": {},
   "source": [
    "데이터와 파라미터의 값을 조정하면서 File>make a copy기능을 이용해 파일이름을 'Experiment_xxx(1~8기능)_기타정보' 로 생성하면 된다"
   ]
  },
  {
   "cell_type": "markdown",
   "metadata": {},
   "source": [
    "<img src=\"PalletSystem.png\">"
   ]
  },
  {
   "cell_type": "markdown",
   "metadata": {},
   "source": [
    "현재 엔진의 기능 중 <br>\n",
    "## -> 1. 요일묶음, 2. holiday 설정<br>\n",
    "## -> 3. seasonality mode, 4. trend change <br>\n",
    "## -> 5. outlier 제거, 6. prior<br>\n",
    "## -> 7. postprocess, 8. prophet 성능저하시 다른 모델로 변경 <br>\n",
    "의 순서로 기능들을 한 번씩 사용해보는데 의의를 두고, <br>\n",
    "향후 실험파일들은 데이터와 나머지 기능들은 그대로 유지한채 <b>1~8 중 하나의 기능만</b> 변화시켜면서 결과를 비교해본다.<br>"
   ]
  },
  {
   "cell_type": "code",
   "execution_count": 1,
   "metadata": {
    "scrolled": true
   },
   "outputs": [
    {
     "name": "stdout",
     "output_type": "stream",
     "text": [
      "/Users/moonygo/Documents/GitHub/Nextopt\n"
     ]
    }
   ],
   "source": [
    "import os, sys\n",
    "\n",
    "path_name = os.path.dirname(os.path.abspath(os.path.dirname(os.getcwd())))\n",
    "sys.path.append(path_name)\n",
    "\n",
    "import pandas as pd\n",
    "import numpy as np\n",
    "import matplotlib.pyplot as plt\n",
    "from fbprophet import Prophet\n",
    "from Engine.Data.IO import IO\n",
    "from Engine.Pipeline.pipeline import NextoptBasePipeline,NextoptWeekdayDMPipeline,NextoptWeekdayDMProphetPipeline\n",
    "from Engine.Data.IO import IO\n",
    "from Engine.Data.transformer import Transformer\n",
    "from Engine.Data.explorer import Explorer\n",
    "\n",
    "# 1. Input\n",
    "path_name = os.path.dirname(os.path.abspath(os.path.dirname(os.getcwd())))\n",
    "sys.path.append(path_name)\n",
    "print(path_name)\n",
    "\n",
    "data_dir = path_name + '/Data/DB'"
   ]
  },
  {
   "cell_type": "markdown",
   "metadata": {},
   "source": [
    "## 0. Data"
   ]
  },
  {
   "cell_type": "markdown",
   "metadata": {},
   "source": [
    "위 그림중 어떤 물류흐름에 해당하는 데이터인지 설정"
   ]
  },
  {
   "cell_type": "markdown",
   "metadata": {},
   "source": [
    "<img src=\"PalletFlowDataType.png\">"
   ]
  },
  {
   "cell_type": "code",
   "execution_count": 2,
   "metadata": {},
   "outputs": [],
   "source": [
    "df_pallets = IO.read_pickle(data_dir + '/KPP일별_From2_To4_유형별전처리.pkl') \n",
    "# 2. Transformer\n",
    "df_pallets.head()\n",
    "df_pallets.transformer.dt_format = '%Y%m%d' "
   ]
  },
  {
   "cell_type": "markdown",
   "metadata": {},
   "source": [
    "다음 파렛트 유형중에 선택 하여 df_pallets.transformer.get(code=['N11']) code에 넣는다"
   ]
  },
  {
   "cell_type": "code",
   "execution_count": 3,
   "metadata": {},
   "outputs": [
    {
     "data": {
      "text/plain": [
       "Index(['AP11', 'AP12', 'AP95', 'BAG', 'C11', 'C95', 'D11', 'EL14', 'EL18',\n",
       "       'GIT', 'GP12', 'GTW', 'H11', 'IN11', 'L12', 'L14', 'L14J', 'N11',\n",
       "       'N11R', 'N11S', 'N11Y', 'N12', 'N15', 'NG11R', 'P05', 'P06', 'P10',\n",
       "       'P11', 'P11R', 'P12', 'P13', 'P14', 'P15', 'P94', 'PA11', 'PA12',\n",
       "       'PA95', 'PG11R', 'R12', 'R14', 'R14Y', 'S11', 'TOT', 'W08J', 'W11',\n",
       "       'W12', 'W13', 'W14', 'WP11', 'WP12'],\n",
       "      dtype='object')"
      ]
     },
     "execution_count": 3,
     "metadata": {},
     "output_type": "execute_result"
    }
   ],
   "source": [
    "df_pallets.columns"
   ]
  },
  {
   "cell_type": "code",
   "execution_count": 4,
   "metadata": {},
   "outputs": [],
   "source": [
    "df = df_pallets.transformer.get(code=['N11'], weekday=[0,1,2,3,4,5,6]).fillna(0.0)"
   ]
  },
  {
   "cell_type": "markdown",
   "metadata": {},
   "source": [
    "데이터를 가져올 때 start= , end= parameter를 통해 어떤 기간의 데이터를 가져올건지 결정가능(trend chang와 조금 관련있어 참고)"
   ]
  },
  {
   "cell_type": "markdown",
   "metadata": {},
   "source": [
    "## 1. 요일묶음"
   ]
  },
  {
   "cell_type": "markdown",
   "metadata": {},
   "source": [
    "### 해당 파렛트의 요일별 추이 확인 후 묶음 결정"
   ]
  },
  {
   "cell_type": "code",
   "execution_count": 5,
   "metadata": {},
   "outputs": [
    {
     "data": {
      "image/png": "[encoded data removed]",
      "text/plain": [
       "<Figure size 576x576 with 1 Axes>"
      ]
     },
     "metadata": {},
     "output_type": "display_data"
    }
   ],
   "source": [
    "df.explorer.plot_by_weekday()"
   ]
  },
  {
   "cell_type": "code",
   "execution_count": 6,
   "metadata": {},
   "outputs": [],
   "source": [
    "# weekday 월요일 - 0 ...  일요일 - 6\n",
    "df = df_pallets.transformer.get(code=['N11'], weekday=[0,1,2,3,4,5,6])\n",
    "df = df.fillna(0)\n",
    "df = df.reset_index()\n",
    "df.columns = ['ds','y']"
   ]
  },
  {
   "cell_type": "code",
   "execution_count": 7,
   "metadata": {},
   "outputs": [
    {
     "name": "stdout",
     "output_type": "stream",
     "text": [
      "SET INDEX AS DS(DateTimeIndex)\n"
     ]
    }
   ],
   "source": [
    "pipeline = NextoptWeekdayDMProphetPipeline()\n",
    "pipeline.raw_data = df\n",
    "pipeline.horizon = 30 # 예측할 기간(defualt: 30)\n",
    "pipeline.unit = 'd'"
   ]
  },
  {
   "cell_type": "code",
   "execution_count": 8,
   "metadata": {},
   "outputs": [
    {
     "name": "stdout",
     "output_type": "stream",
     "text": [
      "DIVIDE TRAIN BY WEEKDAY\n",
      "DIVIDE EACH FOLD BY WEEKDAY\n"
     ]
    },
    {
     "data": {
      "text/plain": [
       "{0: [0, 1, 2, 3, 4], 1: [5], 2: [6]}"
      ]
     },
     "execution_count": 8,
     "metadata": {},
     "output_type": "execute_result"
    }
   ],
   "source": [
    "pipeline.division_condition = ['01234','5','6'] # mon - thur, sat, sun\n",
    "pipeline.division_condition"
   ]
  },
  {
   "cell_type": "markdown",
   "metadata": {},
   "source": [
    "## 2. holiday: 설날과 추석 & 일반 공휴일"
   ]
  },
  {
   "cell_type": "code",
   "execution_count": 9,
   "metadata": {},
   "outputs": [],
   "source": [
    "df_holiday_main = IO.read_pickle('../../Data/기타/holiday/1. 설날과추석.pkl')\n",
    "df_holiday_sub = IO.read_pickle('../../Data/기타/holiday/2. 일반공휴일.pkl')"
   ]
  },
  {
   "cell_type": "code",
   "execution_count": 10,
   "metadata": {},
   "outputs": [],
   "source": [
    "df_holiday_main['lower_window'] = 0\n",
    "df_holiday_main['upper_window'] = 0\n",
    "df_holiday_main['holiday'] = '중요휴일'\n",
    "\n",
    "df_holiday_sub['lower_window'] = 0\n",
    "df_holiday_sub['upper_window'] = 0\n",
    "df_holiday_sub['holiday'] = '보통휴일'\n",
    "\n",
    "df_holidays = pd.concat([df_holiday_main, df_holiday_sub])"
   ]
  },
  {
   "cell_type": "markdown",
   "metadata": {},
   "source": [
    "기타 holiday관련 조정가능한 목록"
   ]
  },
  {
   "cell_type": "markdown",
   "metadata": {},
   "source": [
    "### 다음은 여기서 변경할 수 없고, fit을 다 한 후 postprocess에서 해야"
   ]
  },
  {
   "cell_type": "code",
   "execution_count": 11,
   "metadata": {},
   "outputs": [],
   "source": [
    "#pipeline.postprocess(holiday_correction_dict={0: df_holiday_main,\n",
    "#                                          0.5: df_holiday_sub,\n",
    "#                                         })\n",
    "#pipeline.evaluate()"
   ]
  },
  {
   "cell_type": "markdown",
   "metadata": {},
   "source": [
    "## 3. Seasonality Mode "
   ]
  },
  {
   "cell_type": "markdown",
   "metadata": {},
   "source": [
    "additive를 할건지 multiplicative를 할건지 결정: 평균값이 증가함에 따라 분산도 함께 커지면, seasonality는 multiplicative가 맞다 (holtswinter와도 관련)"
   ]
  },
  {
   "cell_type": "code",
   "execution_count": null,
   "metadata": {},
   "outputs": [],
   "source": []
  },
  {
   "cell_type": "markdown",
   "metadata": {},
   "source": [
    "## 4. Trend Change"
   ]
  },
  {
   "cell_type": "markdown",
   "metadata": {},
   "source": [
    "Trend를 보고, 활용할 데이터의 가중치나 parameter를 다르게 설정하면 됨"
   ]
  },
  {
   "cell_type": "markdown",
   "metadata": {},
   "source": [
    "## fold의 조건을 설정가능"
   ]
  },
  {
   "cell_type": "markdown",
   "metadata": {},
   "source": [
    "마지막 두줄이 없으면 왜 에러가 나는지 모르겠음 앞에서 다 설정해준건데 왜 굳이 한번 더 해줘야하는지"
   ]
  },
  {
   "cell_type": "code",
   "execution_count": 12,
   "metadata": {},
   "outputs": [
    {
     "name": "stdout",
     "output_type": "stream",
     "text": [
      "CROSS VALIDATION SPLIT IS DONE.\n",
      "DIVIDE TRAIN BY WEEKDAY\n",
      "DIVIDE EACH FOLD BY WEEKDAY\n"
     ]
    },
    {
     "data": {
      "text/plain": [
       "{0: [0, 1, 2, 3, 4], 1: [5], 2: [6]}"
      ]
     },
     "execution_count": 12,
     "metadata": {},
     "output_type": "execute_result"
    }
   ],
   "source": [
    "pipeline.cross_validation_split(fold = 2)\n",
    "pipeline.division_condition = ['01234','5','6'] # mon - thur, sat, sun\n",
    "pipeline.division_condition"
   ]
  },
  {
   "cell_type": "code",
   "execution_count": 13,
   "metadata": {
    "scrolled": true
   },
   "outputs": [],
   "source": [
    "pipeline.model = Prophet(\n",
    "        daily_seasonality= False,\n",
    "        weekly_seasonality= True,\n",
    "        yearly_seasonality= True,\n",
    "        holidays = df_holidays\n",
    ")"
   ]
  },
  {
   "cell_type": "code",
   "execution_count": 14,
   "metadata": {},
   "outputs": [
    {
     "name": "stdout",
     "output_type": "stream",
     "text": [
      "FOLD  1  DIVISION  1  RESET TRAIN, TEST INDEX FOR PROPHET MODEL\n"
     ]
    },
    {
     "name": "stderr",
     "output_type": "stream",
     "text": [
      "/anaconda3/envs/nextopt/lib/python3.6/site-packages/pystan/misc.py:399: FutureWarning: Conversion of the second argument of issubdtype from `float` to `np.floating` is deprecated. In future, it will be treated as `np.float64 == np.dtype(float).type`.\n",
      "  elif np.issubdtype(np.asarray(v).dtype, float):\n"
     ]
    },
    {
     "name": "stdout",
     "output_type": "stream",
     "text": [
      "FOLD  1  DIVISION  2  RESET TRAIN, TEST INDEX FOR PROPHET MODEL\n",
      "FOLD  1  DIVISION  3  RESET TRAIN, TEST INDEX FOR PROPHET MODEL\n",
      "FOLD  2  DIVISION  1  RESET TRAIN, TEST INDEX FOR PROPHET MODEL\n",
      "FOLD  2  DIVISION  2  RESET TRAIN, TEST INDEX FOR PROPHET MODEL\n",
      "FOLD  2  DIVISION  3  RESET TRAIN, TEST INDEX FOR PROPHET MODEL\n",
      "FOLD  1  DIVISION  1  FIT AND FORECAST DONE\n",
      "FOLD  1  DIVISION  2  FIT AND FORECAST DONE\n",
      "FOLD  1  DIVISION  3  FIT AND FORECAST DONE\n",
      "FOLD  2  DIVISION  1  FIT AND FORECAST DONE\n",
      "FOLD  2  DIVISION  2  FIT AND FORECAST DONE\n",
      "FOLD  2  DIVISION  3  FIT AND FORECAST DONE\n"
     ]
    }
   ],
   "source": [
    "pipeline.fit_and_predict()"
   ]
  },
  {
   "cell_type": "code",
   "execution_count": 15,
   "metadata": {
    "scrolled": true
   },
   "outputs": [
    {
     "name": "stdout",
     "output_type": "stream",
     "text": [
      "MERGE DIVIDED FORECAST INTO FORECAST_TRAIN & FORECAST_TEST\n"
     ]
    }
   ],
   "source": [
    "pipeline.merge_forecast()"
   ]
  },
  {
   "cell_type": "markdown",
   "metadata": {},
   "source": [
    "왜 다음 코드의 첫줄이 있어야 에러가 안 나는지는 잘 모르겠음"
   ]
  },
  {
   "cell_type": "code",
   "execution_count": 16,
   "metadata": {
    "scrolled": true
   },
   "outputs": [
    {
     "name": "stdout",
     "output_type": "stream",
     "text": [
      "POSTPROCESS YHAT = 0 IF YHAT < 0\n",
      "POSTPROCESS Holiday\n",
      "POSTPROCESS YHAT = 0 IF YHAT < 0\n",
      "POSTPROCESS Holiday\n",
      "POSTPROCESS YHAT = 0 IF YHAT < 0\n",
      "POSTPROCESS Holiday\n",
      "POSTPROCESS YHAT = 0 IF YHAT < 0\n",
      "POSTPROCESS Holiday\n",
      "FOLD  1  EVALUATOR ADDED\n",
      "FOLD  2  EVALUATOR ADDED\n",
      "FOLD  1  FORECAST_VALUE & RESULT SUMMARY ADDED\n"
     ]
    }
   ],
   "source": [
    "pipeline.postprocess(holiday_correction_dict={0: df_holiday_main,\n",
    "                                          0: df_holiday_sub\n",
    "                                         })\n",
    "pipeline.evaluate()"
   ]
  },
  {
   "cell_type": "code",
   "execution_count": 17,
   "metadata": {
    "scrolled": true
   },
   "outputs": [
    {
     "name": "stdout",
     "output_type": "stream",
     "text": [
      "   Fold       From         To     Real     Predict     Error  Error(%)  \\\n",
      "2     2 2017-11-02 2017-12-01  1697172  1748837.44 -51665.44     -3.04   \n",
      "1     1 2017-12-02 2017-12-31  1438054  1494767.31 -56713.31     -3.94   \n",
      "\n",
      "   Total Error  Total Error(%)     RMSE   MAPE  sMAPE  \n",
      "2    113214.70            6.67  4846.27  11.94   6.57  \n",
      "1    116263.91            8.08  5337.59  17.12   7.93  \n"
     ]
    }
   ],
   "source": [
    "pipeline.print_summary()"
   ]
  },
  {
   "cell_type": "code",
   "execution_count": 18,
   "metadata": {},
   "outputs": [
    {
     "name": "stdout",
     "output_type": "stream",
     "text": [
      "Fold  2 \t 2017-11-02 00:00:00  -  2017-12-01 00:00:00\n",
      "Fold  1 \t 2017-12-02 00:00:00  -  2017-12-31 00:00:00\n"
     ]
    },
    {
     "data": {
      "image/png": "[encoded data removed]",
      "text/plain": [
       "<Figure size 432x288 with 1 Axes>"
      ]
     },
     "metadata": {},
     "output_type": "display_data"
    },
    {
     "data": {
      "image/png": "[encoded data removed]",
      "text/plain": [
       "<Figure size 432x288 with 1 Axes>"
      ]
     },
     "metadata": {},
     "output_type": "display_data"
    }
   ],
   "source": [
    "pipeline.plot_forecast()"
   ]
  },
  {
   "cell_type": "code",
   "execution_count": null,
   "metadata": {},
   "outputs": [],
   "source": []
  },
  {
   "cell_type": "code",
   "execution_count": null,
   "metadata": {},
   "outputs": [],
   "source": []
  }
 ],
 "metadata": {
  "kernelspec": {
   "display_name": "Python 3",
   "language": "python",
   "name": "python3"
  },
  "language_info": {
   "codemirror_mode": {
    "name": "ipython",
    "version": 3
   },
   "file_extension": ".py",
   "mimetype": "text/x-python",
   "name": "python",
   "nbconvert_exporter": "python",
   "pygments_lexer": "ipython3",
   "version": "3.6.5"
  }
 },
 "nbformat": 4,
 "nbformat_minor": 2
}
