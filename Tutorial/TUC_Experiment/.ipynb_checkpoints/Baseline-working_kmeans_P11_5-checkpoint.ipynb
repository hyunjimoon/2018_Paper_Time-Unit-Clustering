{
 "cells": [
  {
   "cell_type": "code",
   "execution_count": 1,
   "metadata": {},
   "outputs": [],
   "source": [
    "#'012345', '6'\n",
    "#'01235','4', '6'\n",
    "clustering_result=['015','23','4', '6']"
   ]
  },
  {
   "cell_type": "code",
   "execution_count": 2,
   "metadata": {
    "scrolled": true
   },
   "outputs": [
    {
     "name": "stdout",
     "output_type": "stream",
     "text": [
      "/Users/moonygo/Documents/NextoptEngine_light\n"
     ]
    }
   ],
   "source": [
    "import os, sys\n",
    "\n",
    "path_name = os.path.dirname(os.path.abspath(os.path.dirname(os.getcwd())))\n",
    "sys.path.append(path_name)\n",
    "\n",
    "import pandas as pd\n",
    "import numpy as np\n",
    "import matplotlib.pyplot as plt\n",
    "from fbprophet import Prophet\n",
    "from Engine.Data.IO import IO\n",
    "from Engine.Pipeline.pipeline import NextoptBasePipeline,NextoptWeekdayDMPipeline,NextoptWeekdayDMProphetPipeline\n",
    "from Engine.Data.IO import IO\n",
    "from Engine.Data.transformer import Transformer\n",
    "from Engine.Data.explorer import Explorer\n",
    "\n",
    "# 1. Input\n",
    "path_name = os.path.dirname(os.path.abspath(os.path.dirname(os.getcwd())))\n",
    "sys.path.append(path_name)\n",
    "print(path_name)\n",
    "\n",
    "data_dir = path_name + '/Data/DB'\n",
    "\n",
    "df_pallets = IO.read_pickle(data_dir + '/KPP일별_발주_유형별전처리.pkl') \n",
    "# 2. Transformer\n",
    "df_pallets.head()\n",
    "df_pallets.transformer.dt_format = '%Y%m%d' \n",
    "\n",
    "df_N11 = df_pallets.transformer.get(code=['N11'], weekday=[0,1,2,3,4,5,6],start='2012-01-01', end='2017-12-31').fillna(0.0)\n",
    "df_L14 = df_pallets.transformer.get(code=['L14'], weekday=[0,1,2,3,4,5,6],start='2012-01-01', end='2017-12-31').fillna(0.0)\n",
    "df_P11 = df_pallets.transformer.get(code=['P11'], weekday=[0,1,2,3,4,5,6],start='2012-01-01', end='2017-12-31').fillna(0.0)\n",
    "df_P13= df_pallets.transformer.get(code=['P13'], weekday=[0,1,2,3,4,5,6],start='2012-01-01', end='2017-12-31').fillna(0.0)\n",
    "df_P14= df_pallets.transformer.get(code=['P14'], weekday=[0,1,2,3,4,5,6],start='2012-01-01', end='2017-12-31').fillna(0.0)\n",
    "df_set=[df_N11,df_L14,df_P11,df_P13,df_P14]"
   ]
  },
  {
   "cell_type": "code",
   "execution_count": null,
   "metadata": {},
   "outputs": [
    {
     "name": "stdout",
     "output_type": "stream",
     "text": [
      "SET INDEX AS DS(DateTimeIndex)\n",
      "CROSS VALIDATION SPLIT IS DONE.\n",
      "DIVIDE TRAIN BY WEEKDAY\n",
      "DIVIDE EACH FOLD BY WEEKDAY\n",
      "FOLD  1  DIVISION  1  RESET TRAIN, TEST INDEX FOR PROPHET MODEL\n"
     ]
    },
    {
     "name": "stderr",
     "output_type": "stream",
     "text": [
      "/anaconda3/envs/nextopt/lib/python3.6/site-packages/pystan/misc.py:399: FutureWarning: Conversion of the second argument of issubdtype from `float` to `np.floating` is deprecated. In future, it will be treated as `np.float64 == np.dtype(float).type`.\n",
      "  elif np.issubdtype(np.asarray(v).dtype, float):\n"
     ]
    },
    {
     "name": "stdout",
     "output_type": "stream",
     "text": [
      "FOLD  1  DIVISION  2  RESET TRAIN, TEST INDEX FOR PROPHET MODEL\n",
      "FOLD  1  DIVISION  3  RESET TRAIN, TEST INDEX FOR PROPHET MODEL\n",
      "FOLD  1  DIVISION  4  RESET TRAIN, TEST INDEX FOR PROPHET MODEL\n",
      "FOLD  2  DIVISION  1  RESET TRAIN, TEST INDEX FOR PROPHET MODEL\n",
      "FOLD  2  DIVISION  2  RESET TRAIN, TEST INDEX FOR PROPHET MODEL\n",
      "FOLD  2  DIVISION  3  RESET TRAIN, TEST INDEX FOR PROPHET MODEL\n",
      "FOLD  2  DIVISION  4  RESET TRAIN, TEST INDEX FOR PROPHET MODEL\n",
      "FOLD  3  DIVISION  1  RESET TRAIN, TEST INDEX FOR PROPHET MODEL\n",
      "FOLD  3  DIVISION  2  RESET TRAIN, TEST INDEX FOR PROPHET MODEL\n",
      "FOLD  3  DIVISION  3  RESET TRAIN, TEST INDEX FOR PROPHET MODEL\n",
      "FOLD  3  DIVISION  4  RESET TRAIN, TEST INDEX FOR PROPHET MODEL\n",
      "FOLD  4  DIVISION  1  RESET TRAIN, TEST INDEX FOR PROPHET MODEL\n"
     ]
    }
   ],
   "source": [
    "df = df_pallets.transformer.get(code=['P11'], weekday=[0,1,2,3,4,5,6],start='2012-01-01', end='2017-12-31')\n",
    "df = df.fillna(0)\n",
    "df = df.reset_index()\n",
    "df.columns = ['ds','y']\n",
    "\n",
    "pipeline = NextoptWeekdayDMProphetPipeline()\n",
    "pipeline.raw_data = df\n",
    "pipeline.horizon = 30 # 예측할 기간(defualt: 30)\n",
    "pipeline.unit = 'd'\n",
    "\n",
    "df_holiday_main = IO.read_pickle('../../Data/기타/holiday/1. 설날과추석.pkl')\n",
    "df_holiday_sub = IO.read_pickle('../../Data/기타/holiday/2. 일반공휴일.pkl')\n",
    "df_holiday_main['lower_window'] = 0\n",
    "df_holiday_main['upper_window'] = 0\n",
    "df_holiday_main['holiday'] = '중요휴일'\n",
    "\n",
    "df_holiday_sub['lower_window'] = 0\n",
    "df_holiday_sub['upper_window'] = 0\n",
    "df_holiday_sub['holiday'] = '보통휴일'\n",
    "\n",
    "df_holidays = pd.concat([df_holiday_main, df_holiday_sub])\n",
    "\n",
    "pipeline.cross_validation_split(fold = 12)\n",
    "\n",
    "#pipeline.division_condition = ['0','1','2','3','4','5','6'] # mon - thur, sat, sun\n",
    "#pipeline.division_condition=['01234','5','6']\n",
    "#pipeline.division_condition=['012345','6']\n",
    "pipeline.division_condition = clustering_result\n",
    "pipeline.division_condition\n",
    "\n",
    "pipeline.model = Prophet(\n",
    "        daily_seasonality= False,\n",
    "        weekly_seasonality= True,\n",
    "        yearly_seasonality= True,\n",
    "        holidays = df_holidays\n",
    ")\n",
    "pipeline.fit_and_predict()\n",
    "pipeline.merge_forecast()\n",
    "\n",
    "pipeline.postprocess(holiday_correction_dict={0: df_holiday_main,\n",
    "                                          0: df_holiday_sub\n",
    "                                         })\n",
    "pipeline.evaluate()\n",
    "pipeline.print_summary()\n",
    "pipeline.plot_forecast()"
   ]
  },
  {
   "cell_type": "code",
   "execution_count": null,
   "metadata": {},
   "outputs": [],
   "source": [
    "pipeline.print_summary()"
   ]
  },
  {
   "cell_type": "code",
   "execution_count": null,
   "metadata": {},
   "outputs": [],
   "source": [
    "a=131476 +125249+92973 + 156950 + 132914+ 140446+112059+164982+ 145649 +178586+109695+107925      "
   ]
  },
  {
   "cell_type": "code",
   "execution_count": null,
   "metadata": {},
   "outputs": [],
   "source": [
    "a/12"
   ]
  },
  {
   "cell_type": "code",
   "execution_count": null,
   "metadata": {},
   "outputs": [],
   "source": []
  },
  {
   "cell_type": "code",
   "execution_count": null,
   "metadata": {},
   "outputs": [],
   "source": []
  }
 ],
 "metadata": {
  "kernelspec": {
   "display_name": "Python 3",
   "language": "python",
   "name": "python3"
  },
  "language_info": {
   "codemirror_mode": {
    "name": "ipython",
    "version": 3
   },
   "file_extension": ".py",
   "mimetype": "text/x-python",
   "name": "python",
   "nbconvert_exporter": "python",
   "pygments_lexer": "ipython3",
   "version": "3.6.5"
  }
 },
 "nbformat": 4,
 "nbformat_minor": 2
}
