{
 "cells": [
  {
   "cell_type": "markdown",
   "metadata": {},
   "source": [
    "<img src=\"PalletSystem.png\">"
   ]
  },
  {
   "cell_type": "code",
   "execution_count": 1,
   "metadata": {
    "scrolled": false
   },
   "outputs": [
    {
     "name": "stdout",
     "output_type": "stream",
     "text": [
      "/Users/moonygo/Documents/NextoptEngine_light\n"
     ]
    }
   ],
   "source": [
    "import os, sys\n",
    "\n",
    "path_name = os.path.dirname(os.path.abspath(os.path.dirname(os.getcwd())))\n",
    "sys.path.append(path_name)\n",
    "\n",
    "import pandas as pd\n",
    "import numpy as np\n",
    "import matplotlib.pyplot as plt\n",
    "from fbprophet import Prophet\n",
    "from Engine.Data.IO import IO\n",
    "from Engine.Pipeline.pipeline import NextoptBasePipeline,NextoptWeekdayDMPipeline,NextoptWeekdayDMProphetPipeline\n",
    "from Engine.Data.IO import IO\n",
    "from Engine.Data.transformer import Transformer\n",
    "from Engine.Data.explorer import Explorer\n",
    "\n",
    "# 1. Input\n",
    "path_name = os.path.dirname(os.path.abspath(os.path.dirname(os.getcwd())))\n",
    "sys.path.append(path_name)\n",
    "print(path_name)\n",
    "\n",
    "data_dir = path_name + '/Data/DB'"
   ]
  },
  {
   "cell_type": "markdown",
   "metadata": {},
   "source": [
    "<img src=\"PalletFlowDataType.png\">"
   ]
  },
  {
   "cell_type": "code",
   "execution_count": 37,
   "metadata": {},
   "outputs": [],
   "source": [
    "df_pallets = IO.read_pickle(data_dir + '/KPP일별_발주_유형별전처리.pkl') \n",
    "# 2. Transformer\n",
    "df_pallets.head()\n",
    "df_pallets.transformer.dt_format = '%Y%m%d' "
   ]
  },
  {
   "cell_type": "markdown",
   "metadata": {},
   "source": [
    "다음 파렛트 유형중에 선택 하여 df_pallets.transformer.get(code=['N11']) code에 넣는다"
   ]
  },
  {
   "cell_type": "code",
   "execution_count": 38,
   "metadata": {
    "scrolled": true
   },
   "outputs": [
    {
     "data": {
      "text/plain": [
       "Index(['AP11', 'AP12', 'AP95', 'BAG', 'C11', 'C95', 'D11', 'EL14', 'EL18',\n",
       "       'GIT', 'GP12', 'GTW', 'H11', 'IN11', 'L12', 'L14', 'L14J', 'N11',\n",
       "       'N11R', 'N11S', 'N11Y', 'N12', 'N15', 'NG11R', 'P05', 'P06', 'P10',\n",
       "       'P11', 'P11R', 'P12', 'P13', 'P14', 'P15', 'P94', 'PA11', 'PA12',\n",
       "       'PA95', 'PG11R', 'R12', 'R14', 'R14Y', 'S11', 'TOT', 'W08J', 'W11',\n",
       "       'W12', 'W13', 'W14', 'WP11', 'WP12'],\n",
       "      dtype='object')"
      ]
     },
     "execution_count": 38,
     "metadata": {},
     "output_type": "execute_result"
    }
   ],
   "source": [
    "df_pallets.columns"
   ]
  },
  {
   "cell_type": "code",
   "execution_count": 39,
   "metadata": {
    "scrolled": true
   },
   "outputs": [],
   "source": [
    "df_N11 = df_pallets.transformer.get(code=['N11'], weekday=[0,1,2,3,4,5,6],start='2012-01-01', end='2017-12-31').fillna(0.0)"
   ]
  },
  {
   "cell_type": "code",
   "execution_count": 40,
   "metadata": {},
   "outputs": [],
   "source": [
    "df_L14 = df_pallets.transformer.get(code=['L14'], weekday=[0,1,2,3,4,5,6],start='2012-01-01', end='2017-12-31').fillna(0.0)"
   ]
  },
  {
   "cell_type": "code",
   "execution_count": 41,
   "metadata": {},
   "outputs": [],
   "source": [
    "df_P11 = df_pallets.transformer.get(code=['P11'], weekday=[0,1,2,3,4,5,6],start='2012-01-01', end='2017-12-31').fillna(0.0)"
   ]
  },
  {
   "cell_type": "code",
   "execution_count": 42,
   "metadata": {},
   "outputs": [],
   "source": [
    "df_P13= df_pallets.transformer.get(code=['P13'], weekday=[0,1,2,3,4,5,6],start='2012-01-01', end='2017-12-31').fillna(0.0)"
   ]
  },
  {
   "cell_type": "code",
   "execution_count": 43,
   "metadata": {},
   "outputs": [],
   "source": [
    "df_P14= df_pallets.transformer.get(code=['P14'], weekday=[0,1,2,3,4,5,6],start='2012-01-01', end='2017-12-31').fillna(0.0)"
   ]
  },
  {
   "cell_type": "code",
   "execution_count": 44,
   "metadata": {},
   "outputs": [],
   "source": [
    "df_set=[df_N11,df_L14,df_P11,df_P13,df_P14]"
   ]
  },
  {
   "cell_type": "code",
   "execution_count": 70,
   "metadata": {},
   "outputs": [
    {
     "data": {
      "text/plain": [
       "<bound method Explorer.group_by_weekday of <Engine.Data.explorer.Explorer object at 0x1c232bf630>>"
      ]
     },
     "execution_count": 70,
     "metadata": {},
     "output_type": "execute_result"
    }
   ],
   "source": [
    "df_N11.explorer.group_by_weekday"
   ]
  },
  {
   "cell_type": "code",
   "execution_count": null,
   "metadata": {},
   "outputs": [],
   "source": [
    "df_N11.explorer.group_by_weekday"
   ]
  },
  {
   "cell_type": "code",
   "execution_count": 56,
   "metadata": {},
   "outputs": [],
   "source": [
    "import sklearn\n",
    "from sklearn.cluster import KMeans\n",
    "import numpy as np\n",
    "def prepare_clustering(df_mean):\n",
    "    a=[]\n",
    "    for i in df_mean:\n",
    "        i=[i]\n",
    "        a.append(i)\n",
    "    return a\n",
    "def clustering(a):\n",
    "    for i in range(1,8):\n",
    "        kmeans=KMeans(n_clusters=i, random_state=1).fit(a)\n",
    "        print(kmeans.labels_)"
   ]
  },
  {
   "cell_type": "code",
   "execution_count": 57,
   "metadata": {
    "scrolled": true
   },
   "outputs": [
    {
     "name": "stdout",
     "output_type": "stream",
     "text": [
      "[0 0 0 0 0 0 0]\n",
      "[1 1 1 1 1 0 0]\n",
      "[1 1 1 1 1 0 2]\n",
      "[3 1 1 1 1 0 2]\n",
      "[3 1 1 4 1 0 2]\n",
      "[3 1 5 4 5 0 2]\n",
      "[3 1 5 4 6 0 2]\n",
      "===========\n",
      "[0 0 0 0 0 0 0]\n",
      "[0 0 0 0 0 0 1]\n",
      "[2 2 2 2 2 0 1]\n",
      "[2 2 2 2 3 0 1]\n",
      "[4 2 4 2 3 0 1]\n",
      "[4 2 4 5 3 0 1]\n",
      "[6 2 4 5 3 0 1]\n",
      "===========\n",
      "[0 0 0 0 0 0 0]\n",
      "[0 0 0 0 0 0 1]\n",
      "[0 0 0 0 2 0 1]\n",
      "[0 0 3 3 2 0 1]\n",
      "[4 0 3 3 2 0 1]\n",
      "[4 5 3 3 2 0 1]\n",
      "[4 5 3 6 2 0 1]\n",
      "===========\n",
      "[0 0 0 0 0 0 0]\n",
      "[0 0 0 0 0 1 1]\n",
      "[1 1 1 1 1 0 2]\n",
      "[3 1 1 1 1 0 2]\n",
      "[3 1 4 1 1 0 2]\n",
      "[3 1 4 5 5 0 2]\n",
      "[3 1 4 6 5 0 2]\n",
      "===========\n",
      "[0 0 0 0 0 0 0]\n",
      "[0 0 0 0 0 0 1]\n",
      "[2 0 2 0 0 2 1]\n",
      "[0 2 3 2 2 0 1]\n",
      "[4 2 3 2 2 0 1]\n",
      "[4 2 3 5 2 0 1]\n",
      "[4 6 3 5 2 0 1]\n",
      "===========\n"
     ]
    },
    {
     "data": {
      "image/png": "[encoded data removed]",
      "text/plain": [
       "<Figure size 576x576 with 1 Axes>"
      ]
     },
     "metadata": {},
     "output_type": "display_data"
    },
    {
     "data": {
      "image/png": "[encoded data removed]",
      "text/plain": [
       "<Figure size 576x576 with 1 Axes>"
      ]
     },
     "metadata": {},
     "output_type": "display_data"
    },
    {
     "data": {
      "image/png": "[encoded data removed]",
      "text/plain": [
       "<Figure size 576x576 with 1 Axes>"
      ]
     },
     "metadata": {},
     "output_type": "display_data"
    },
    {
     "data": {
      "image/png": "[encoded data removed]",
      "text/plain": [
       "<Figure size 576x576 with 1 Axes>"
      ]
     },
     "metadata": {},
     "output_type": "display_data"
    },
    {
     "data": {
      "image/png": "[encoded data removed]",
      "text/plain": [
       "<Figure size 576x576 with 1 Axes>"
      ]
     },
     "metadata": {},
     "output_type": "display_data"
    }
   ],
   "source": [
    "for df in df_set:\n",
    "    df.explorer.plot_by_weekday()\n",
    "    df_mean = df.explorer.stats_by_weekday()['mean']\n",
    "    a=prepare_clustering(df_mean)\n",
    "    clustering(a)\n",
    "    print(\"===========\")"
   ]
  },
  {
   "cell_type": "code",
   "execution_count": null,
   "metadata": {},
   "outputs": [],
   "source": [
    "df = df_pallets.transformer.get(code=['N11'], weekday=[0,1,2,3,4,5,6])\n",
    "df = df.fillna(0)\n",
    "df = df.reset_index()\n",
    "df.columns = ['ds','y']\n",
    "\n",
    "pipeline = NextoptWeekdayDMProphetPipeline()\n",
    "pipeline.raw_data = df\n",
    "pipeline.horizon = 30 # 예측할 기간(defualt: 30)\n",
    "pipeline.unit = 'd'\n",
    "\n",
    "df_holiday_main = IO.read_pickle('../../Data/기타/holiday/1. 설날과추석.pkl')\n",
    "df_holiday_sub = IO.read_pickle('../../Data/기타/holiday/2. 일반공휴일.pkl')\n",
    "df_holiday_main['lower_window'] = 0\n",
    "df_holiday_main['upper_window'] = 0\n",
    "df_holiday_main['holiday'] = '중요휴일'\n",
    "\n",
    "df_holiday_sub['lower_window'] = 0\n",
    "df_holiday_sub['upper_window'] = 0\n",
    "df_holiday_sub['holiday'] = '보통휴일'\n",
    "\n",
    "df_holidays = pd.concat([df_holiday_main, df_holiday_sub])\n",
    "\n",
    "pipeline.cross_validation_split(fold = 2)\n",
    "\n",
    "#pipeline.division_condition = ['0','1','2','3','4','5','6'] # mon - thur, sat, sun\n",
    "#pipeline.division_condition=['01234','5','6']\n",
    "#pipeline.division_condition=['012345','6']\n",
    "pipeline.division_condition = ['0','1','2','3','4','5','6'] \n",
    "pipeline.division_condition\n",
    "\n",
    "pipeline.model = Prophet(\n",
    "        daily_seasonality= False,\n",
    "        weekly_seasonality= True,\n",
    "        yearly_seasonality= True,\n",
    "        holidays = df_holidays\n",
    ")\n",
    "\n",
    "pipeline.fit_and_predict()\n",
    "pipeline.merge_forecast()\n",
    "pipeline.print_summary()"
   ]
  },
  {
   "cell_type": "code",
   "execution_count": null,
   "metadata": {},
   "outputs": [],
   "source": [
    "pipeline.plot_forecast()"
   ]
  },
  {
   "cell_type": "code",
   "execution_count": null,
   "metadata": {},
   "outputs": [],
   "source": []
  },
  {
   "cell_type": "code",
   "execution_count": null,
   "metadata": {},
   "outputs": [],
   "source": []
  },
  {
   "cell_type": "code",
   "execution_count": null,
   "metadata": {},
   "outputs": [],
   "source": []
  },
  {
   "cell_type": "markdown",
   "metadata": {},
   "source": [
    "### 해당 파렛트의 요일별 추이 확인 후 묶음 결정"
   ]
  },
  {
   "cell_type": "code",
   "execution_count": 63,
   "metadata": {},
   "outputs": [],
   "source": [
    "# weekday 월요일 - 0 ...  일요일 - 6\n",
    "df = df_pallets.transformer.get(code=['N11'], weekday=[0,1,2,3,4,5,6])\n",
    "df = df.fillna(0)\n",
    "df = df.reset_index()\n",
    "df.columns = ['ds','y']"
   ]
  },
  {
   "cell_type": "code",
   "execution_count": 64,
   "metadata": {},
   "outputs": [
    {
     "name": "stdout",
     "output_type": "stream",
     "text": [
      "SET INDEX AS DS(DateTimeIndex)\n"
     ]
    }
   ],
   "source": [
    "pipeline = NextoptWeekdayDMProphetPipeline()\n",
    "pipeline.raw_data = df\n",
    "pipeline.horizon = 30 # 예측할 기간(defualt: 30)\n",
    "pipeline.unit = 'd'"
   ]
  },
  {
   "cell_type": "markdown",
   "metadata": {},
   "source": [
    "## 2. holiday: 설날과 추석 & 일반 공휴일"
   ]
  },
  {
   "cell_type": "code",
   "execution_count": 65,
   "metadata": {},
   "outputs": [],
   "source": [
    "df_holiday_main = IO.read_pickle('../../Data/기타/holiday/1. 설날과추석.pkl')\n",
    "df_holiday_sub = IO.read_pickle('../../Data/기타/holiday/2. 일반공휴일.pkl')"
   ]
  },
  {
   "cell_type": "code",
   "execution_count": 66,
   "metadata": {},
   "outputs": [],
   "source": [
    "df_holiday_main['lower_window'] = 0\n",
    "df_holiday_main['upper_window'] = 0\n",
    "df_holiday_main['holiday'] = '중요휴일'\n",
    "\n",
    "df_holiday_sub['lower_window'] = 0\n",
    "df_holiday_sub['upper_window'] = 0\n",
    "df_holiday_sub['holiday'] = '보통휴일'\n",
    "\n",
    "df_holidays = pd.concat([df_holiday_main, df_holiday_sub])"
   ]
  },
  {
   "cell_type": "markdown",
   "metadata": {},
   "source": [
    "## fold의 조건을 설정가능"
   ]
  },
  {
   "cell_type": "code",
   "execution_count": 67,
   "metadata": {},
   "outputs": [
    {
     "name": "stdout",
     "output_type": "stream",
     "text": [
      "CROSS VALIDATION SPLIT IS DONE.\n",
      "DIVIDE TRAIN BY WEEKDAY\n",
      "DIVIDE EACH FOLD BY WEEKDAY\n",
      "DIVIDE TRAIN BY WEEKDAY\n",
      "DIVIDE EACH FOLD BY WEEKDAY\n"
     ]
    },
    {
     "data": {
      "text/plain": [
       "{0: [0], 1: [1], 2: [2], 3: [3], 4: [4], 5: [5], 6: [6]}"
      ]
     },
     "execution_count": 67,
     "metadata": {},
     "output_type": "execute_result"
    }
   ],
   "source": [
    "pipeline.cross_validation_split(fold = 2)\n",
    "\n",
    "pipeline.division_condition = ['0','1','2','3','4','5','6'] # mon - thur, sat, sun\n",
    "\n",
    "#pipeline.division_condition=['01234','5','6']\n",
    "\n",
    "#pipeline.division_condition=['012345','6']\n",
    "#pipeline.division_condition\n",
    "pipeline.division_condition = ['0','1','2','3','4','5','6'] \n",
    "pipeline.division_condition"
   ]
  },
  {
   "cell_type": "code",
   "execution_count": 68,
   "metadata": {
    "scrolled": true
   },
   "outputs": [
    {
     "name": "stdout",
     "output_type": "stream",
     "text": [
      "FOLD  1  DIVISION  1  RESET TRAIN, TEST INDEX FOR PROPHET MODEL\n",
      "FOLD  1  DIVISION  2  RESET TRAIN, TEST INDEX FOR PROPHET MODEL\n"
     ]
    },
    {
     "name": "stderr",
     "output_type": "stream",
     "text": [
      "/anaconda3/envs/nextopt/lib/python3.6/site-packages/pystan/misc.py:399: FutureWarning: Conversion of the second argument of issubdtype from `float` to `np.floating` is deprecated. In future, it will be treated as `np.float64 == np.dtype(float).type`.\n",
      "  elif np.issubdtype(np.asarray(v).dtype, float):\n"
     ]
    },
    {
     "name": "stdout",
     "output_type": "stream",
     "text": [
      "FOLD  1  DIVISION  3  RESET TRAIN, TEST INDEX FOR PROPHET MODEL\n",
      "FOLD  1  DIVISION  4  RESET TRAIN, TEST INDEX FOR PROPHET MODEL\n",
      "FOLD  1  DIVISION  5  RESET TRAIN, TEST INDEX FOR PROPHET MODEL\n",
      "FOLD  1  DIVISION  6  RESET TRAIN, TEST INDEX FOR PROPHET MODEL\n",
      "FOLD  1  DIVISION  7  RESET TRAIN, TEST INDEX FOR PROPHET MODEL\n",
      "FOLD  2  DIVISION  1  RESET TRAIN, TEST INDEX FOR PROPHET MODEL\n",
      "FOLD  2  DIVISION  2  RESET TRAIN, TEST INDEX FOR PROPHET MODEL\n",
      "FOLD  2  DIVISION  3  RESET TRAIN, TEST INDEX FOR PROPHET MODEL\n",
      "FOLD  2  DIVISION  4  RESET TRAIN, TEST INDEX FOR PROPHET MODEL\n",
      "FOLD  2  DIVISION  5  RESET TRAIN, TEST INDEX FOR PROPHET MODEL\n",
      "FOLD  2  DIVISION  6  RESET TRAIN, TEST INDEX FOR PROPHET MODEL\n",
      "FOLD  2  DIVISION  7  RESET TRAIN, TEST INDEX FOR PROPHET MODEL\n",
      "FOLD  1  DIVISION  1  FIT AND FORECAST DONE\n",
      "FOLD  1  DIVISION  2  FIT AND FORECAST DONE\n",
      "FOLD  1  DIVISION  3  FIT AND FORECAST DONE\n",
      "FOLD  1  DIVISION  4  FIT AND FORECAST DONE\n",
      "FOLD  1  DIVISION  5  FIT AND FORECAST DONE\n",
      "FOLD  1  DIVISION  6  FIT AND FORECAST DONE\n",
      "FOLD  1  DIVISION  7  FIT AND FORECAST DONE\n",
      "FOLD  2  DIVISION  1  FIT AND FORECAST DONE\n",
      "FOLD  2  DIVISION  2  FIT AND FORECAST DONE\n",
      "FOLD  2  DIVISION  3  FIT AND FORECAST DONE\n",
      "FOLD  2  DIVISION  4  FIT AND FORECAST DONE\n",
      "FOLD  2  DIVISION  5  FIT AND FORECAST DONE\n",
      "FOLD  2  DIVISION  6  FIT AND FORECAST DONE\n",
      "FOLD  2  DIVISION  7  FIT AND FORECAST DONE\n",
      "MERGE DIVIDED FORECAST INTO FORECAST_TRAIN & FORECAST_TEST\n"
     ]
    }
   ],
   "source": [
    "pipeline.model = Prophet(\n",
    "        daily_seasonality= False,\n",
    "        weekly_seasonality= True,\n",
    "        yearly_seasonality= True,\n",
    "        holidays = df_holidays\n",
    ")\n",
    "pipeline.fit_and_predict()\n",
    "pipeline.merge_forecast()"
   ]
  },
  {
   "cell_type": "code",
   "execution_count": null,
   "metadata": {},
   "outputs": [],
   "source": []
  },
  {
   "cell_type": "code",
   "execution_count": null,
   "metadata": {
    "scrolled": true
   },
   "outputs": [],
   "source": []
  },
  {
   "cell_type": "code",
   "execution_count": 69,
   "metadata": {},
   "outputs": [
    {
     "ename": "KeyError",
     "evalue": "0",
     "traceback": [
      "\u001b[0;31m---------------------------------------------------------------------------\u001b[0m",
      "\u001b[0;31mKeyError\u001b[0m                                  Traceback (most recent call last)",
      "\u001b[0;32m<ipython-input-69-5dd69718501a>\u001b[0m in \u001b[0;36m<module>\u001b[0;34m()\u001b[0m\n\u001b[0;32m----> 1\u001b[0;31m \u001b[0mpipeline\u001b[0m\u001b[0;34m.\u001b[0m\u001b[0mevaluate\u001b[0m\u001b[0;34m(\u001b[0m\u001b[0;34m)\u001b[0m\u001b[0;34m\u001b[0m\u001b[0m\n\u001b[0m",
      "\u001b[0;32m~/Documents/NextoptEngine_light/Engine/Pipeline/pipeline.py\u001b[0m in \u001b[0;36mevaluate\u001b[0;34m(self, type, length)\u001b[0m\n\u001b[1;32m    299\u001b[0m             \u001b[0;32mfor\u001b[0m \u001b[0mi\u001b[0m \u001b[0;32min\u001b[0m \u001b[0mrange\u001b[0m\u001b[0;34m(\u001b[0m\u001b[0mself\u001b[0m\u001b[0;34m.\u001b[0m\u001b[0m_fold\u001b[0m\u001b[0;34m)\u001b[0m\u001b[0;34m:\u001b[0m\u001b[0;34m\u001b[0m\u001b[0m\n\u001b[1;32m    300\u001b[0m                 self.evaluator[i] = Evaluator(self.test[i],\n\u001b[0;32m--> 301\u001b[0;31m                                               \u001b[0mself\u001b[0m\u001b[0;34m.\u001b[0m\u001b[0mpostprocessed_test\u001b[0m\u001b[0;34m[\u001b[0m\u001b[0mi\u001b[0m\u001b[0;34m]\u001b[0m\u001b[0;34m,\u001b[0m\u001b[0;34m\u001b[0m\u001b[0m\n\u001b[0m\u001b[1;32m    302\u001b[0m                                               self.use_log)\n\u001b[1;32m    303\u001b[0m         \u001b[0;32mif\u001b[0m \u001b[0mtype\u001b[0m \u001b[0;34m==\u001b[0m \u001b[0;34m'train'\u001b[0m\u001b[0;34m:\u001b[0m\u001b[0;34m\u001b[0m\u001b[0m\n",
      "\u001b[0;31mKeyError\u001b[0m: 0"
     ],
     "output_type": "error"
    }
   ],
   "source": [
    "pipeline.evaluate()"
   ]
  },
  {
   "cell_type": "code",
   "execution_count": 61,
   "metadata": {},
   "outputs": [
    {
     "ename": "AttributeError",
     "evalue": "'NoneType' object has no attribute 'round'",
     "traceback": [
      "\u001b[0;31m---------------------------------------------------------------------------\u001b[0m",
      "\u001b[0;31mAttributeError\u001b[0m                            Traceback (most recent call last)",
      "\u001b[0;32m<ipython-input-61-5925b1caea62>\u001b[0m in \u001b[0;36m<module>\u001b[0;34m()\u001b[0m\n\u001b[0;32m----> 1\u001b[0;31m \u001b[0mpipeline\u001b[0m\u001b[0;34m.\u001b[0m\u001b[0mprint_summary\u001b[0m\u001b[0;34m(\u001b[0m\u001b[0;34m)\u001b[0m\u001b[0;34m\u001b[0m\u001b[0m\n\u001b[0m",
      "\u001b[0;32m~/Documents/NextoptEngine_light/Engine/Pipeline/pipeline.py\u001b[0m in \u001b[0;36mprint_summary\u001b[0;34m(self)\u001b[0m\n\u001b[1;32m    340\u001b[0m             \u001b[0msummary\u001b[0m \u001b[0;34m=\u001b[0m \u001b[0mself\u001b[0m\u001b[0;34m.\u001b[0m\u001b[0mevaluator\u001b[0m\u001b[0;34m[\u001b[0m\u001b[0mi\u001b[0m\u001b[0;34m]\u001b[0m\u001b[0;34m.\u001b[0m\u001b[0mget_result\u001b[0m\u001b[0;34m(\u001b[0m\u001b[0mi\u001b[0m \u001b[0;34m+\u001b[0m \u001b[0;36m1\u001b[0m\u001b[0;34m)\u001b[0m\u001b[0;34m\u001b[0m\u001b[0m\n\u001b[1;32m    341\u001b[0m             \u001b[0mself\u001b[0m\u001b[0;34m.\u001b[0m\u001b[0m_result_summary\u001b[0m \u001b[0;34m=\u001b[0m \u001b[0mpd\u001b[0m\u001b[0;34m.\u001b[0m\u001b[0mconcat\u001b[0m\u001b[0;34m(\u001b[0m\u001b[0;34m[\u001b[0m\u001b[0mself\u001b[0m\u001b[0;34m.\u001b[0m\u001b[0mresult_summary\u001b[0m\u001b[0;34m,\u001b[0m \u001b[0msummary\u001b[0m\u001b[0;34m]\u001b[0m\u001b[0;34m)\u001b[0m\u001b[0;34m\u001b[0m\u001b[0m\n\u001b[0;32m--> 342\u001b[0;31m         \u001b[0mprint\u001b[0m\u001b[0;34m(\u001b[0m\u001b[0mself\u001b[0m\u001b[0;34m.\u001b[0m\u001b[0mresult_summary\u001b[0m\u001b[0;34m.\u001b[0m\u001b[0mround\u001b[0m\u001b[0;34m(\u001b[0m\u001b[0;36m2\u001b[0m\u001b[0;34m)\u001b[0m\u001b[0;34m)\u001b[0m\u001b[0;34m\u001b[0m\u001b[0m\n\u001b[0m\u001b[1;32m    343\u001b[0m \u001b[0;34m\u001b[0m\u001b[0m\n\u001b[1;32m    344\u001b[0m     \u001b[0;32mdef\u001b[0m \u001b[0msave_summary\u001b[0m\u001b[0;34m(\u001b[0m\u001b[0mself\u001b[0m\u001b[0;34m,\u001b[0m \u001b[0mpath\u001b[0m\u001b[0;34m=\u001b[0m\u001b[0;32mNone\u001b[0m\u001b[0;34m,\u001b[0m \u001b[0mformat\u001b[0m\u001b[0;34m=\u001b[0m\u001b[0;34m'csv'\u001b[0m\u001b[0;34m)\u001b[0m\u001b[0;34m:\u001b[0m\u001b[0;34m\u001b[0m\u001b[0m\n",
      "\u001b[0;31mAttributeError\u001b[0m: 'NoneType' object has no attribute 'round'"
     ],
     "output_type": "error"
    }
   ],
   "source": [
    "pipeline.print_summary()"
   ]
  },
  {
   "cell_type": "code",
   "execution_count": 62,
   "metadata": {},
   "outputs": [],
   "source": [
    "pipeline.plot_forecast()"
   ]
  },
  {
   "cell_type": "code",
   "execution_count": null,
   "metadata": {},
   "outputs": [],
   "source": []
  },
  {
   "cell_type": "code",
   "execution_count": null,
   "metadata": {},
   "outputs": [],
   "source": []
  },
  {
   "cell_type": "code",
   "execution_count": null,
   "metadata": {},
   "outputs": [],
   "source": [
    "#pipeline.division_condition = ['01234','5','6'] # mon - thur, sat, sun\n",
    "pipeline.division_condition = ['0','1','2','3','4','5','6'] # mon - thur, sat, sun\n",
    "\n",
    "#pipeline.division_condition=['01234','5','6']\n",
    "\n",
    "#pipeline.division_condition=['012345','6']\n",
    "pipeline.division_condition"
   ]
  },
  {
   "cell_type": "code",
   "execution_count": null,
   "metadata": {},
   "outputs": [],
   "source": [
    "b"
   ]
  },
  {
   "cell_type": "code",
   "execution_count": null,
   "metadata": {},
   "outputs": [],
   "source": []
  },
  {
   "cell_type": "code",
   "execution_count": null,
   "metadata": {},
   "outputs": [],
   "source": []
  },
  {
   "cell_type": "code",
   "execution_count": null,
   "metadata": {},
   "outputs": [],
   "source": []
  },
  {
   "cell_type": "code",
   "execution_count": null,
   "metadata": {
    "scrolled": true
   },
   "outputs": [],
   "source": [
    "#pipeline.postprocess(holiday_correction_dict={0: df_holiday_main,\n",
    "#                                          0: df_holiday_sub\n",
    "#                                         })\n",
    "pipeline.evaluate()"
   ]
  },
  {
   "cell_type": "code",
   "execution_count": null,
   "metadata": {
    "scrolled": true
   },
   "outputs": [],
   "source": [
    "pipeline.print_summary()"
   ]
  },
  {
   "cell_type": "code",
   "execution_count": null,
   "metadata": {},
   "outputs": [],
   "source": [
    "pipeline.plot_forecast()"
   ]
  },
  {
   "cell_type": "code",
   "execution_count": null,
   "metadata": {},
   "outputs": [],
   "source": []
  },
  {
   "cell_type": "code",
   "execution_count": null,
   "metadata": {},
   "outputs": [],
   "source": []
  },
  {
   "cell_type": "markdown",
   "metadata": {},
   "source": [
    "기타 holiday관련 조정가능한 목록"
   ]
  },
  {
   "cell_type": "markdown",
   "metadata": {},
   "source": [
    "### 다음은 여기서 변경할 수 없고, fit을 다 한 후 postprocess에서 해야"
   ]
  },
  {
   "cell_type": "code",
   "execution_count": null,
   "metadata": {},
   "outputs": [],
   "source": [
    "#pipeline.postprocess(holiday_correction_dict={0: df_holiday_main,\n",
    "#                                          0.5: df_holiday_sub,\n",
    "#                                         })\n",
    "#pipeline.evaluate()"
   ]
  },
  {
   "cell_type": "markdown",
   "metadata": {},
   "source": [
    "## 3. Seasonality Mode "
   ]
  },
  {
   "cell_type": "markdown",
   "metadata": {},
   "source": [
    "additive를 할건지 multiplicative를 할건지 결정: 평균값이 증가함에 따라 분산도 함께 커지면, seasonality는 add/multiple 중 후자가 맞다 (holtswinter와도 관련)"
   ]
  },
  {
   "cell_type": "markdown",
   "metadata": {},
   "source": [
    "## 4. Trend Change"
   ]
  },
  {
   "cell_type": "markdown",
   "metadata": {},
   "source": [
    "Trend를 보고, 활용할 데이터의 가중치나 parameter를 다르게 설정하면 됨"
   ]
  },
  {
   "cell_type": "code",
   "execution_count": null,
   "metadata": {},
   "outputs": [],
   "source": []
  },
  {
   "cell_type": "code",
   "execution_count": null,
   "metadata": {},
   "outputs": [],
   "source": []
  },
  {
   "cell_type": "markdown",
   "metadata": {},
   "source": [
    "## 회수쪽으로 데이터 변경"
   ]
  },
  {
   "cell_type": "code",
   "execution_count": null,
   "metadata": {},
   "outputs": [],
   "source": [
    "df_pallets = IO.read_pickle(data_dir + '/KPP일별_From5_To2_유형별전처리.pkl') \n",
    "# 2. Transformer\n",
    "df_pallets.head()\n",
    "df_pallets.transformer.dt_format = '%Y%m%d' "
   ]
  },
  {
   "cell_type": "code",
   "execution_count": null,
   "metadata": {},
   "outputs": [],
   "source": [
    "import sklearn\n",
    "from sklearn.cluster import KMeans\n",
    "import numpy as np\n",
    "#X=np.array([1,2,3,12,13,14])\n",
    "X = np.array([[1, 2], [1, 4], [1, 0],\n",
    "     [4, 2], [4, 4], [4, 0]])\n",
    "kmeans=KMeans(n_clusters=2).fit(X)"
   ]
  },
  {
   "cell_type": "code",
   "execution_count": null,
   "metadata": {},
   "outputs": [],
   "source": [
    "X = np.array([[1], [4], [3],\n",
    "     [42], [44], [40]])\n",
    "kmeans=KMeans(n_clusters=2).fit(X)\n",
    "kmeans.labels_"
   ]
  },
  {
   "cell_type": "code",
   "execution_count": null,
   "metadata": {},
   "outputs": [],
   "source": [
    "kmeans.labels_"
   ]
  },
  {
   "cell_type": "markdown",
   "metadata": {},
   "source": [
    "데이터를 가져올 때 start= , end= parameter를 통해 어떤 기간의 데이터를 가져올건지 결정가능(참고: trend chang와 관련있음)"
   ]
  },
  {
   "cell_type": "markdown",
   "metadata": {},
   "source": [
    "## 1. 요일묶음"
   ]
  },
  {
   "cell_type": "code",
   "execution_count": null,
   "metadata": {},
   "outputs": [],
   "source": []
  },
  {
   "cell_type": "code",
   "execution_count": null,
   "metadata": {},
   "outputs": [],
   "source": []
  }
 ],
 "metadata": {
  "kernelspec": {
   "display_name": "Python 3",
   "language": "python",
   "name": "python3"
  },
  "language_info": {
   "codemirror_mode": {
    "name": "ipython",
    "version": 3
   },
   "file_extension": ".py",
   "mimetype": "text/x-python",
   "name": "python",
   "nbconvert_exporter": "python",
   "pygments_lexer": "ipython3",
   "version": "3.6.5"
  }
 },
 "nbformat": 4,
 "nbformat_minor": 2
}
